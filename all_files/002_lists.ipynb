{
 "cells": [
  {
   "cell_type": "code",
   "execution_count": 9,
   "id": "697e5067",
   "metadata": {},
   "outputs": [],
   "source": [
    "# append(item): Adds an item to the end of the list.\n",
    "# extend(iterable): Appends the elements of an iterable (e.g., another list) to the end of the list.\n",
    "# insert(index, item): Inserts an item at a specified index in the list.\n",
    "# remove(item): Removes the first occurrence of a specific item from the list.\n",
    "# pop(index): Removes and returns the item at a specified index in the list.\n",
    "# clear(): Removes all items from the list, making it empty.\n",
    "# index(item): Returns the index of the first occurrence of a specific item in the list.\n",
    "# count(item): Returns the number of times a specific item appears in the list.\n",
    "# sort(): Sorts the list in ascending order (in-place).\n",
    "# reverse(): Reverses the order of elements in the list (in-place).\n",
    "# copy(): Returns a shallow copy of the list.\n",
    "# len(): Returns the number of items in the list.\n",
    "# min(): Returns the minimum item in the list.\n",
    "# max(): Returns the maximum item in the list.\n",
    "# sum(): Returns the sum of all items in the list.\n",
    "# any(): Returns True if at least one item in the list is True.\n",
    "# all(): Returns True if all items in the list are True.\n",
    "# index(item, start, end): Returns the index of the first occurrence of a specific item within a specified range.\n",
    "# reverse(): Reverses the order of elements in the list (in-place).\n",
    "# sort(key, reverse): Sorts the list with custom sorting criteria using a key function and allows reversing the order."
   ]
  },
  {
   "cell_type": "code",
   "execution_count": 2,
   "id": "f0321ca2",
   "metadata": {},
   "outputs": [],
   "source": [
    "#defining the my_list here\n",
    "def get_my_list():\n",
    "    my_list = [1, 2, 3, 4, 5]\n",
    "    return my_list"
   ]
  },
  {
   "cell_type": "code",
   "execution_count": 8,
   "id": "be7d8f92",
   "metadata": {},
   "outputs": [
    {
     "name": "stdout",
     "output_type": "stream",
     "text": [
      "[1, 2, 3, 4, 5, 9]\n",
      "[1, 2, 3, 4, 5, 6]\n",
      "[1, 10, 2, 3, 4, 5, 6]\n",
      "[1, 10, 2, 4, 5, 6]\n"
     ]
    }
   ],
   "source": [
    "# Top 20 Python List Methods and Questions:\n",
    "    \n",
    "# append() - Adds an element at the end of the list.\n",
    "# Q: How do you append the number 9 to my_list = [1, 2, 3, 4, 5]?\n",
    "my_list = [1, 2, 3, 4, 5]\n",
    "my_list.append(9)\n",
    "print(my_list)\n",
    "    \n",
    "# extend() - Adds all elements of a list to another list.\n",
    "# Q: How do you extend my_list = [1, 2, 3] with another_list = [4, 5, 6]?\n",
    "my_list = [1, 2, 3]\n",
    "another_list = [4, 5, 6]\n",
    "my_list.extend(another_list)\n",
    "print(my_list)\n",
    "    \n",
    "# insert() - Inserts an element at a specified position.\n",
    "# Q: How do you insert the number 10 at the second position in my_list = [1, 2, 3, 4, 5]?\n",
    "my_list.insert(1,10)\n",
    "print(my_list)\n",
    "\n",
    "# remove() - Removes the first occurrence of an element.\n",
    "# Q: How do you remove the first occurrence of 3 from my_list = [1, 2, 3, 4, 3, 5]?\n",
    "my_list.remove(3)\n",
    "print(my_list)"
   ]
  },
  {
   "cell_type": "code",
   "execution_count": 34,
   "id": "b007bed9",
   "metadata": {},
   "outputs": [
    {
     "name": "stdout",
     "output_type": "stream",
     "text": [
      "popped element 3\n",
      "None\n",
      "Index: 3\n",
      "count of item 2 3\n",
      "list in ascending order: [1, 2, 3, 4, 5]\n"
     ]
    }
   ],
   "source": [
    "# pop() - Removes and returns an element at the given index.\n",
    "# Q: What is the result of pop(2) on my_list = [1, 2, 3, 4, 5]?\n",
    "my_list = [1, 2, 3, 4, 5]\n",
    "#3, as it removes and returns the item at specified index i.e 2\n",
    "print(\"popped element\", my_list.pop(2))\n",
    "\n",
    "# clear() - Removes all elements from the list.\n",
    "# Q: How do you clear all elements from my_list = [1, 2, 3, 4, 5]?\n",
    "print(my_list.clear())\n",
    "    \n",
    "# index() - Returns the index of the first occurrence of an element.\n",
    "# Q: What is the index of 4 in my_list = [1, 2, 3, 4, 5]?\n",
    "print(\"Index:\",get_my_list().index(4))\n",
    "    \n",
    "# count() - Returns the count of the number of times an element occurs in the list.\n",
    "# Q: How many times does 2 appear in my_list = [1, 2, 2, 3, 4, 2, 5]?\n",
    "my_list = [1, 2, 2, 3, 4, 2, 5]\n",
    "print(\"count of item 2\",my_list.count(2))\n",
    "    \n",
    "# sort() - Sorts the list in ascending order.\n",
    "# Q: How do you sort my_list = [5, 3, 1, 4, 2] in ascending order?\n",
    "my_list = [5, 3, 1, 4, 2]\n",
    "# my_list = my_list.sort()\n",
    "# print(\"list in ascending order:\",my_list)\n",
    "print(\"list in ascending order:\",sorted(my_list))"
   ]
  },
  {
   "cell_type": "code",
   "execution_count": null,
   "id": "c6d26b09",
   "metadata": {},
   "outputs": [],
   "source": [
    "#sorts in ascending order\n",
    "\n",
    "#my_list.sort() vs sorted(my_list)\n",
    "#sort() : sorts the list and returns none\n",
    "#sorted(): sorts the list and returns sorted list"
   ]
  },
  {
   "cell_type": "code",
   "execution_count": 35,
   "id": "c7a50a6e",
   "metadata": {},
   "outputs": [
    {
     "data": {
      "text/plain": [
       "[5, 4, 3, 2, 1]"
      ]
     },
     "execution_count": 35,
     "metadata": {},
     "output_type": "execute_result"
    }
   ],
   "source": [
    "#sorts in descending order\n",
    "my_list = [5, 3, 1, 4, 2]\n",
    "sorted(my_list, reverse = True)"
   ]
  },
  {
   "cell_type": "code",
   "execution_count": null,
   "id": "59dd3b81",
   "metadata": {},
   "outputs": [],
   "source": [
    "#Study how to sort using KEY ???"
   ]
  },
  {
   "cell_type": "code",
   "execution_count": 11,
   "id": "9dbba960",
   "metadata": {},
   "outputs": [
    {
     "name": "stdout",
     "output_type": "stream",
     "text": [
      "reversal of the list None\n",
      "[5, 4, 3, 2, 1]\n",
      "[1, 2, 3, 4, 5]\n",
      "length of the list 5\n",
      "Maximum Element: 5\n",
      "Minimum Element: 1\n"
     ]
    }
   ],
   "source": [
    "# reverse() - Reverses the order of the list.\n",
    "# Q: How do you reverse the list my_list = [1, 2, 3, 4, 5]?\n",
    "my_list = [1, 2, 3, 4, 5]\n",
    "print(\"reversal of the list\",my_list.reverse())\n",
    "print(my_list)\n",
    "\n",
    "\n",
    "# copy() - Returns a shallow copy of the list.\n",
    "# Q: How do you create a copy of my_list = [1, 2, 3, 4, 5]?\n",
    "my_list = [1, 2, 3, 4, 5]\n",
    "print(my_list.copy())\n",
    "    \n",
    "# len() - Returns the number of elements in the list (not a method but a built-in function).\n",
    "# Q: What is the length of my_list = [1, 2, 3, 4, 5]?\n",
    "print(\"length of the list\", len(my_list))\n",
    "\n",
    "\n",
    "# max() - Returns the largest element in the list (built-in function).\n",
    "# Q: What is the largest number in my_list = [1, 2, 3, 4, 5]?\n",
    "print(\"Maximum Element:\", max(my_list))\n",
    "    \n",
    "# min() - Returns the smallest element in the list (built-in function).\n",
    "# Q: What is the smallest number in my_list = [1, 2, 3, 4, 5]?\n",
    "print(\"Minimum Element:\", min(my_list))\n",
    "\n",
    "#study shallow vs deep copy:-"
   ]
  },
  {
   "cell_type": "code",
   "execution_count": 18,
   "id": "42a3ac62",
   "metadata": {},
   "outputs": [
    {
     "name": "stdout",
     "output_type": "stream",
     "text": [
      "Sum of the elements 15\n",
      "Tuple to list conversion: [1, 2, 3]\n",
      "function all True\n",
      "function any True\n",
      "0 a\n",
      "1 b\n",
      "2 c\n"
     ]
    }
   ],
   "source": [
    "# sum() - Sums up the elements of the list (built-in function).\n",
    "# Q: What is the sum of all elements in my_list = [1, 2, 3, 4, 5]?\n",
    "my_list = [1, 2, 3, 4, 5]\n",
    "print(\"Sum of the elements\",sum(my_list))\n",
    "    \n",
    "# list() - Converts an iterable (like a tuple, string, set) to a list.\n",
    "# Q: How do you convert the tuple (1, 2, 3) to a list?\n",
    "tuple = (1, 2, 3)\n",
    "print(\"Tuple to list conversion:\", list(tuple))\n",
    "    \n",
    "# all() - Returns True if all elements of the list are true or if the list is empty.\n",
    "# Q: Does all([1, 2, 3, 4, 5]) return True?\n",
    "#sol: returns False\n",
    "print(\"function all\", all([1, 2, 3, 4, 5]))\n",
    "\n",
    "# any() - Returns True if any element of the list is true. If the list is empty, returns False.\n",
    "# Q: Does any([0, False, 5, None]) return True?\n",
    "#sol:Yes\n",
    "print(\"function any\",any([0, False, 5, None]))\n",
    "\n",
    "# enumerate() - Returns an enumerate object. It contains the index and value of all the items in the list as pairs.\n",
    "# Q: How do you use enumerate() to print each item in `my_list = ['a', 'b', 'c']\n",
    "my_list = ['a', 'b', 'c']\n",
    "for index, item in enumerate(my_list):\n",
    "    print(index, item)\n",
    " \n",
    "        \n",
    "#study any() and all()\n",
    "#how to use zip and unzip()"
   ]
  },
  {
   "cell_type": "code",
   "execution_count": 26,
   "id": "671e8e9e",
   "metadata": {},
   "outputs": [
    {
     "name": "stdout",
     "output_type": "stream",
     "text": [
      "Updated list [1, 2, 3, 4, 5, 6, 7]\n",
      "[10, 5, 30, 40, 50]\n"
     ]
    }
   ],
   "source": [
    "# How do you create an empty list?\n",
    "list_n = []\n",
    "\n",
    "# Write a Python statement to add the number 7 to the end of the list my_list = [1, 2, 3, 4, 5, 6].\n",
    "my_list = [1, 2, 3, 4, 5, 6]\n",
    "my_list.append(7)\n",
    "print(\"Updated list\", my_list)\n",
    "\n",
    "# How do you find the length of a list named my_list?\n",
    "len(my_list)\n",
    "\n",
    "# What does my_list[2] return for \n",
    "my_list = [10, 20, 30, 40, 50] #returns 30\n",
    "my_list[2]\n",
    "\n",
    "# How would you replace the second element in my_list = [1, 2, 3] with the value 5?\n",
    "my_list[1] = 5\n",
    "print(my_list)\n"
   ]
  },
  {
   "cell_type": "code",
   "execution_count": 31,
   "id": "12951e98",
   "metadata": {},
   "outputs": [
    {
     "name": "stdout",
     "output_type": "stream",
     "text": [
      "5\n",
      "[10, 20, 15, 30, 40, 50]\n"
     ]
    },
    {
     "data": {
      "text/plain": [
       "2"
      ]
     },
     "execution_count": 31,
     "metadata": {},
     "output_type": "execute_result"
    }
   ],
   "source": [
    "# What method would you use to remove the last element from my_list and what is that element?\n",
    "print(my_list.pop(-1))\n",
    "\n",
    "# How do you insert the number 15 at the third position in \n",
    "my_list = [10, 20, 30, 40, 50]\n",
    "my_list.insert(2,15)\n",
    "print(my_list)\n",
    "\n",
    "\n",
    "# What does the pop() method do to a list?\n",
    "#sol: removes and returns the element at specified index\n",
    "\n",
    "# How do you create a sublist from my_list = [1, 2, 3, 4, 5] containing only the 2nd and 3rd elements?\n",
    "my_list = [1, 2, 3, 4, 5]\n",
    "my_list[1:3]\n",
    "\n",
    "# What does my_list.index(3) return for my_list = [1, 2, 3, 4, 5]?\n",
    "#sol: 2\n",
    "my_list.index(3)\n"
   ]
  },
  {
   "cell_type": "code",
   "execution_count": 43,
   "id": "56c32b52",
   "metadata": {},
   "outputs": [
    {
     "name": "stdout",
     "output_type": "stream",
     "text": [
      "reversal: [5, 4, 3, 2, 1]\n",
      "ascending order list [1, 2, 3, 4, 5]\n",
      "Extended list [1, 2, 3, 4, 5, 6, 7, 8]\n"
     ]
    }
   ],
   "source": [
    "# How do you check if the number 4 is in \n",
    "my_list = [1, 2, 3, 5, 6]\n",
    "4 in my_list\n",
    "\n",
    "# What does my_list.count(2) return for \n",
    "my_list = [1, 2, 2, 3, 4, 2, 5]\n",
    "#sol: 3\n",
    "my_list.count(2)\n",
    "\n",
    "# How do you reverse the elements in\n",
    "my_list = [1, 2, 3, 4, 5]\n",
    "my_list.reverse()\n",
    "print(\"reversal:\",my_list)\n",
    "\n",
    "# What does sorted(my_list) do for \n",
    "my_list = [3, 1, 4, 2, 5]\n",
    "#sol: sorts my_list in ascending order and returns the sorted list \n",
    "print(\"ascending order list\",sorted( my_list))\n",
    "\n",
    "# How do you add the contents of \n",
    "list2 = [6, 7, 8] \n",
    "#to the end of \n",
    "my_list = [1, 2, 3, 4, 5]\n",
    "\n",
    "my_list.extend(list2)\n",
    "print(\"Extended list\", my_list)\n"
   ]
  },
  {
   "cell_type": "code",
   "execution_count": 53,
   "id": "7b2fba16",
   "metadata": {},
   "outputs": [
    {
     "name": "stdout",
     "output_type": "stream",
     "text": [
      "[1, 2, 4, 3, 5]\n",
      "[1, 2, 3, 4, 5, 6, 7, 8]\n",
      "[]\n",
      "5\n",
      "[1, 2, 3, 4, 5]\n"
     ]
    }
   ],
   "source": [
    "# How do you remove the first occurrence of the value 3 in \n",
    "my_list = [1, 2, 3, 4, 3, 5]\n",
    "#sol: using remove()\n",
    "my_list.remove(3)\n",
    "print(my_list)\n",
    "\n",
    "# What method do you use to add the elements of a \n",
    "tuple = (6, 7, 8) \n",
    "#to the end of \n",
    "my_list = [1, 2, 3, 4, 5]\n",
    "#sol: using extend()\n",
    "my_list.extend(tuple)\n",
    "print(my_list)\n",
    "\n",
    "# How do you clear all elements from \n",
    "my_list = [1, 2, 3, 4, 5]\n",
    "#to make it an empty list?\n",
    "#sol: using clear()\n",
    "my_list.clear()\n",
    "print(my_list)\n",
    "\n",
    "# What is the output of my_list[-1] for \n",
    "my_list = [1, 2, 3, 4, 5]\n",
    "#sol: 5 i.e the last element\n",
    "print(my_list[-1])\n",
    "\n",
    "# How do you create a copy of a list named my_list?\n",
    "print(my_list.copy())\n"
   ]
  },
  {
   "cell_type": "code",
   "execution_count": 61,
   "id": "a0330cc5",
   "metadata": {},
   "outputs": [
    {
     "name": "stdout",
     "output_type": "stream",
     "text": [
      "first_five_elements: [12, 25, 37, 50, 62]\n",
      "True\n",
      "[55, 42, 100, 87, 75, 62, 50, 37, 25, 12]\n",
      "Sum of the elements: 545\n",
      "[55, 42, 77, 100, 87, 75, 62, 50, 37, 25, 12]\n"
     ]
    }
   ],
   "source": [
    "example_list = [12, 25, 37, 50, 62, 75, 87, 100, 42, 55]\n",
    "\n",
    "# How would you slice example_list to get only the first five elements?\n",
    "print(\"first_five_elements:\", example_list[:5])\n",
    "\n",
    "# Write a Python expression to check if the number 42 is in example_list.\n",
    "print(42 in example_list)\n",
    "\n",
    "# How do you reverse the elements in example_list?\n",
    "example_list.reverse()\n",
    "print(example_list)\n",
    "\n",
    "# What is the result of sum(example_list) and what does this function do?\n",
    "#sol: Sums up the values of all the elements in the list\n",
    "print(\"Sum of the elements:\",sum(example_list))\n",
    "\n",
    "# How do you add a new element, say 77, at the 3rd position in example_list?\n",
    "example_list.insert(2,77)\n",
    "print(example_list)\n"
   ]
  },
  {
   "cell_type": "code",
   "execution_count": 66,
   "id": "f18110fc",
   "metadata": {},
   "outputs": [
    {
     "name": "stdout",
     "output_type": "stream",
     "text": [
      "0 12\n",
      "1 25\n",
      "2 37\n",
      "3 50\n",
      "4 62\n",
      "5 75\n",
      "6 87\n",
      "7 100\n",
      "8 42\n",
      "9 55\n",
      "Maximun Element: 100\n",
      "Minimum Element: 12\n",
      "[12, 25, 50, 62, 75, 87, 100, 42, 55]\n",
      "[12, 50, 62, 100, 42]\n"
     ]
    }
   ],
   "source": [
    "example_list = [12, 25, 37, 50, 62, 75, 87, 100, 42, 55]\n",
    "\n",
    "# Write a Python loop to print each element of example_list along with its index.\n",
    "for index, item in enumerate(example_list):\n",
    "    print(index,item)\n",
    "\n",
    "# How would you sort example_list in descending order?\n",
    "sorted(example_list, reverse = True)\n",
    "\n",
    "# Find the maximum and minimum values in example_list using Python built-in functions.\n",
    "print(\"Maximun Element:\", max(example_list))\n",
    "print(\"Minimum Element:\",min(example_list))\n",
    "\n",
    "# Remove the element 37 from example_list. What does the list look like after this operation?\n",
    "#sol: using remove(37) removes first occurance of 37 from the list\n",
    "example_list.remove(37)\n",
    "print(example_list)\n",
    "\n",
    "# Create a new list that contains only the even numbers from example_list.\n",
    "example_list = [12, 25, 37, 50, 62, 75, 87, 100, 42, 55]\n",
    "new_list = []\n",
    "for i in example_list:\n",
    "    if i % 2 == 0:\n",
    "        new_list.append(i)\n",
    "\n",
    "print(new_list)\n",
    "\n",
    "#study list comprehension\n",
    "#print([i if i%2 == 0 for i in example_list])"
   ]
  },
  {
   "cell_type": "code",
   "execution_count": 8,
   "id": "a7ccefe6",
   "metadata": {},
   "outputs": [
    {
     "name": "stdout",
     "output_type": "stream",
     "text": [
      "[5, 2, 3, 4, 1]\n",
      "[1, 2, 3, 4, 5, 6]\n",
      "[1, 2, 3, 4, 5, 6, 4, 5, 6]\n",
      "[2, 4, 6]\n",
      "[1, 2, 3, 4, 5, 1, 2, 3, 4, 5]\n"
     ]
    }
   ],
   "source": [
    "# How do you swap the first and last elements in \n",
    "my_list = [1, 2, 3, 4, 5]\n",
    "first = my_list[0]\n",
    "last = my_list[-1]\n",
    "my_list[0] = last\n",
    "my_list[-1] = first\n",
    "print(my_list)\n",
    "\n",
    "\n",
    "# Given a list \n",
    "numbers = [5, 3, 9, 1, 10]\n",
    "#how would you sort it in ascending order?\n",
    "sorted(numbers)\n",
    "\n",
    "# Write a Python code to concatenate two lists \n",
    "list1 = [1, 2, 3] \n",
    "list2 = [4, 5, 6]\n",
    "list1.extend(list2)\n",
    "print(list1)\n",
    "\n",
    "print(list1 + list2)\n",
    "\n",
    "# How do you slice my_list = [1, 2, 3, 4, 5, 6] to get only the even numbers?\n",
    "# study list comprehensions\n",
    "my_list = [1, 2, 3, 4, 5, 6]\n",
    "even_list = []\n",
    "for i in my_list:\n",
    "    if i %2 == 0:\n",
    "        even_list.append(i)\n",
    "\n",
    "print(even_list)\n",
    "\n",
    "# study multiplication by 2, Write a Python expression that multiplies every element in my_list = [1, 2, 3, 4, 5] by 2.\\\n",
    "my_list = [1, 2, 3, 4, 5]\n",
    "print(my_list*2)\n"
   ]
  },
  {
   "cell_type": "code",
   "execution_count": 16,
   "id": "17188532",
   "metadata": {},
   "outputs": [
    {
     "name": "stdout",
     "output_type": "stream",
     "text": [
      "[1, 3, 4, 5]\n",
      "[5, 4, 3, 2, 1]\n",
      "['a', 'b', 'z', 'd', 'e']\n",
      "['apple', 'banana', 'cherry']\n",
      "15\n"
     ]
    }
   ],
   "source": [
    "# How do you remove the element '2' from my_list = [1, 2, 3, 4, 5] using a method?\n",
    "my_list = [1, 2, 3, 4, 5]\n",
    "my_list.remove(2)\n",
    "print(my_list)\n",
    "\n",
    "# What is the result of my_list[::-1] for my_list = [1, 2, 3, 4, 5]?\n",
    "#reverses the list\n",
    "my_list = [1, 2, 3, 4, 5]\n",
    "print(my_list[::-1])\n",
    "\n",
    "\n",
    "# Given my_list = ['a', 'b', 'c', 'd', 'e'], how would you replace 'c' with 'z'?\n",
    "my_list = ['a', 'b', 'c', 'd', 'e']\n",
    "index = my_list.index('c')\n",
    "my_list[index] = 'z'\n",
    "print(my_list)\n",
    "\n",
    "# How do you insert 'apple' at the beginning of \n",
    "my_list = ['banana', 'cherry']\n",
    "my_list.insert(0,\"apple\")\n",
    "print(my_list)\n",
    "\n",
    "\n",
    "# Write a Python loop to find the sum of all elements in \n",
    "my_list = [1, 2, 3, 4, 5]\n",
    "sum = 0\n",
    "for i in my_list:\n",
    "    sum += i\n",
    "print(sum)"
   ]
  },
  {
   "cell_type": "code",
   "execution_count": 24,
   "id": "099f8e05",
   "metadata": {},
   "outputs": [
    {
     "name": "stdout",
     "output_type": "stream",
     "text": [
      "False\n",
      "[0, 1, 2, 3, 4, 5, 6, 7, 8, 9]\n",
      "[1, 2, 3]\n"
     ]
    }
   ],
   "source": [
    "# How can you check if '3' is in my_list = [1, 2, 4, 5]?\n",
    "my_list = [1, 2, 4, 5]\n",
    "print(3 in(my_list))\n",
    "\n",
    "# What is the output of len(my_list) for \n",
    "my_list = ['apple', 'banana', 'cherry']\n",
    "#sol: 3\n",
    "len(my_list)\n",
    "\n",
    "# How do you create a list my_list that contains the numbers 0 to 9 using a list comprehension? \n",
    "my_list = [i for i in range(0,10)]\n",
    "print(my_list)\n",
    "\n",
    "# Given \n",
    "my_list = [1, 2, 3, 4, 5, 6, 7, 8, 9]\n",
    "#how would you create a new list with only the elements that are divisible by 3?\n",
    "#new_list = [i if i%3 == 0 for i in my_list] # study list comprehension\n",
    "\n",
    "# How would you convert the list ['1', '2', '3'] into a list of integers?\n",
    "list =  ['1', '2', '3']\n",
    "int_list = []\n",
    "for i in list:\n",
    "    i = int(i)\n",
    "    int_list.append(i)\n",
    "print(int_list)\n"
   ]
  }
 ],
 "metadata": {
  "kernelspec": {
   "display_name": "Python 3",
   "language": "python",
   "name": "python3"
  },
  "language_info": {
   "codemirror_mode": {
    "name": "ipython",
    "version": 3
   },
   "file_extension": ".py",
   "mimetype": "text/x-python",
   "name": "python",
   "nbconvert_exporter": "python",
   "pygments_lexer": "ipython3",
   "version": "3.12.1"
  }
 },
 "nbformat": 4,
 "nbformat_minor": 5
}
