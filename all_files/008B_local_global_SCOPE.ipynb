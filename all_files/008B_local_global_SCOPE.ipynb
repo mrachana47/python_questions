{
 "cells": [
  {
   "cell_type": "code",
   "execution_count": 1,
   "id": "1356a21a",
   "metadata": {},
   "outputs": [],
   "source": [
    "# What is the local scope in Python? Explain what local scope means in the context of variables and functions.\n",
    "\n",
    "# How are local variables defined in Python? Provide an example of declaring and using a local variable within a function.\n",
    "\n",
    "# Can local variables be accessed outside the function they are defined in? Explain the scope limitations of local variables.\n",
    "\n",
    "# What happens if you try to access a local variable outside its scope? Describe the error or behavior that occurs.\n",
    "\n",
    "# What is the global scope in Python? Explain what global scope means and where global variables are defined.\n",
    "\n",
    "# How are global variables declared in Python? Provide an example of defining and using global variables.\n",
    "\n",
    "# Can global variables be modified within a function? Discuss whether functions can modify global variables.\n",
    "\n",
    "# What happens if you define a variable with the same name in both local and global scopes? Explain how variable name conflicts are resolved.\n",
    "\n",
    "# What is the LEGB rule in Python scoping? Describe the order in which Python looks for variables (Local, Enclosing, Global, Built-in).\n",
    "\n",
    "# What are nonlocal variables? Explain the purpose and usage of nonlocal variables in nested functions.\n",
    "\n",
    "# Can you modify a global variable from within a nested function without using nonlocal? Discuss the implications of modifying global variables in nested functions.\n",
    "\n",
    "# What is the built-in scope in Python? Mention some examples of variables and functions available in the built-in scope.\n",
    "\n",
    "# How do you access a global variable from within a function? Explain how to access global variables within a function's scope.\n",
    "\n",
    "# What is variable shadowing? Describe the concept of variable shadowing and how it can affect variable access.\n",
    "\n",
    "# Provide an example of using the global keyword to modify a global variable from within a function.\n",
    "\n",
    "# What is the lifetime of a local variable in Python? Discuss the duration for which local variables exist.\n",
    "\n",
    "# What is the lifetime of a global variable in Python? Explain how long global variables persist in memory.\n",
    "\n",
    "# How can you make a global variable immutable within a function? Provide an example of making a global variable immutable.\n",
    "\n",
    "# What is the purpose of the nonlocal keyword in Python? Explain when and why you would use nonlocal in nested functions.\n",
    "\n",
    "# What is a closure in Python, and how does it relate to local and global scopes? Describe the concept of closures in Python."
   ]
  },
  {
   "cell_type": "code",
   "execution_count": null,
   "id": "bed046dd",
   "metadata": {},
   "outputs": [],
   "source": []
  }
 ],
 "metadata": {
  "kernelspec": {
   "display_name": "Python 3",
   "language": "python",
   "name": "python3"
  },
  "language_info": {
   "codemirror_mode": {
    "name": "ipython",
    "version": 3
   },
   "file_extension": ".py",
   "mimetype": "text/x-python",
   "name": "python",
   "nbconvert_exporter": "python",
   "pygments_lexer": "ipython3",
   "version": "3.8.3"
  }
 },
 "nbformat": 4,
 "nbformat_minor": 5
}
