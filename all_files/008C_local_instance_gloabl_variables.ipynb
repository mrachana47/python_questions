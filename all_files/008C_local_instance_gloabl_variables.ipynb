{
 "cells": [
  {
   "cell_type": "code",
   "execution_count": 1,
   "id": "bf770a46",
   "metadata": {},
   "outputs": [],
   "source": [
    "# Scope:\n",
    "\n",
    "# What is the scope of a local variable?\n",
    "# In what part of your code can you access a local variable?\n",
    "# How does the scope of an instance variable differ from that of a local variable?\n",
    "# Where can you access instance variables within a class?\n",
    "# How about global variables? What is their scope?\n",
    "# Lifetime:\n",
    "\n",
    "# How long does a local variable exist?\n",
    "# When is the lifetime of a local variable limited?\n",
    "# How about instance variables? What determines their lifetime?\n",
    "# Are global variables persistent throughout the program's execution?\n",
    "# Accessibility:\n",
    "\n",
    "# Can a local variable be accessed outside the function or block where it's defined?\n",
    "# How can you access instance variables outside of the class in which they are defined?\n",
    "# Are global variables accessible from any part of your code?\n",
    "# Conflict Resolution:\n",
    "\n",
    "# What happens when a local variable has the same name as an instance variable?\n",
    "# How can you differentiate between them in such cases?\n",
    "# What if a local variable shares its name with a global variable?\n",
    "# Modifiability:\n",
    "\n",
    "# Can you modify the value of a local variable from a different function or block?\n",
    "# How do you change the value of an instance variable within a class?\n",
    "# Is it possible to modify a global variable from within a function?\n",
    "# Naming Conventions:\n",
    "\n",
    "# Are there any naming conventions or best practices for local, instance, and global variable names?\n",
    "# How can you make your code more readable when using variables with different scopes?"
   ]
  },
  {
   "cell_type": "code",
   "execution_count": 5,
   "id": "44807c3a",
   "metadata": {},
   "outputs": [],
   "source": [
    "def calculate_square(number):\n",
    "    result = number ** 2\n",
    "    return result\n",
    "\n",
    "square_result = calculate_square(5)\n"
   ]
  },
  {
   "cell_type": "code",
   "execution_count": 6,
   "id": "a472aff5",
   "metadata": {},
   "outputs": [],
   "source": [
    "class Student:\n",
    "    def __init__(self, name, age):\n",
    "        self.name = name  # Instance variable\n",
    "        self.age = age    # Instance variable\n",
    "\n",
    "student1 = Student(\"Alice\", 20)\n"
   ]
  },
  {
   "cell_type": "code",
   "execution_count": 7,
   "id": "2de80b50",
   "metadata": {},
   "outputs": [],
   "source": [
    "global_variable = 42\n",
    "\n",
    "def modify_global():\n",
    "    global global_variable\n",
    "    global_variable = 100\n",
    "\n",
    "modify_global()\n"
   ]
  },
  {
   "cell_type": "code",
   "execution_count": 8,
   "id": "9db0e8f9",
   "metadata": {},
   "outputs": [],
   "source": [
    "# Local Variable Questions:\n",
    "\n",
    "# What is the scope of the result variable in the calculate_square function?\n",
    "# Can you access the result variable outside of the calculate_square function?\n",
    "# How long does the result variable exist?\n",
    "# What happens if you try to print result outside of the function?\n",
    "# Can you have another local variable with the same name in a different function?\n"
   ]
  },
  {
   "cell_type": "code",
   "execution_count": 3,
   "id": "76c33124",
   "metadata": {},
   "outputs": [],
   "source": [
    "# Instance Variable Questions:\n",
    "\n",
    "# What are the instance variables in the Student class?\n",
    "# How do you access the name instance variable of the student1 object?\n",
    "# Is each instance of the Student class allowed to have different values for name and age?\n",
    "# How does the lifetime of an instance variable relate to the lifetime of an object?\n",
    "# What happens if you create multiple Student objects with different names and ages?\n"
   ]
  },
  {
   "cell_type": "code",
   "execution_count": 4,
   "id": "fea9b00e",
   "metadata": {},
   "outputs": [],
   "source": [
    "# Global Variable Questions:\n",
    "\n",
    "# Where is the global_variable defined and what is its scope?\n",
    "# Can you modify the value of global_variable from within the modify_global function?\n",
    "# How do you indicate that you want to modify the global variable rather than creating a new local variable?\n",
    "# After calling modify_global, what will be the value of global_variable?\n",
    "# Are there any risks or caveats associated with using global variables extensively?"
   ]
  },
  {
   "cell_type": "code",
   "execution_count": null,
   "id": "8aedf2dc",
   "metadata": {},
   "outputs": [],
   "source": []
  },
  {
   "cell_type": "code",
   "execution_count": null,
   "id": "d207a244",
   "metadata": {},
   "outputs": [],
   "source": []
  },
  {
   "cell_type": "code",
   "execution_count": null,
   "id": "f319ba64",
   "metadata": {},
   "outputs": [],
   "source": []
  },
  {
   "cell_type": "code",
   "execution_count": null,
   "id": "9c4a31b0",
   "metadata": {},
   "outputs": [],
   "source": []
  }
 ],
 "metadata": {
  "kernelspec": {
   "display_name": "Python 3",
   "language": "python",
   "name": "python3"
  },
  "language_info": {
   "codemirror_mode": {
    "name": "ipython",
    "version": 3
   },
   "file_extension": ".py",
   "mimetype": "text/x-python",
   "name": "python",
   "nbconvert_exporter": "python",
   "pygments_lexer": "ipython3",
   "version": "3.8.3"
  }
 },
 "nbformat": 4,
 "nbformat_minor": 5
}
