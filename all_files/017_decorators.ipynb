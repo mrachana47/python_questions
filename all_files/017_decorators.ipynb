{
 "cells": [
  {
   "cell_type": "code",
   "execution_count": 2,
   "id": "da0a7780",
   "metadata": {},
   "outputs": [],
   "source": [
    "def simple_decorator(func):\n",
    "    def wrapper():\n",
    "        print(\"Something is happening before the function is called.\")\n",
    "        func()\n",
    "        print(\"Something is happening after the function is called.\")\n",
    "    return wrapper\n",
    "\n",
    "@simple_decorator\n",
    "def say_hello():\n",
    "    print(\"Hello!\")\n"
   ]
  },
  {
   "cell_type": "code",
   "execution_count": 3,
   "id": "c0830d34",
   "metadata": {},
   "outputs": [],
   "source": [
    "# What is the purpose of the wrapper function inside the simple_decorator?\n",
    "# How does the @simple_decorator syntax modify the behavior of the say_hello function?\n",
    "# Can you modify the simple_decorator to pass arguments to the say_hello function? If yes, how would you do it?\n",
    "# Is it possible to use multiple decorators on a single function? Provide an example if yes.\n",
    "# How do decorators contribute to the concept of 'Aspect-Oriented Programming' in Python?"
   ]
  },
  {
   "cell_type": "code",
   "execution_count": 1,
   "id": "15888b6e",
   "metadata": {},
   "outputs": [],
   "source": [
    "# What is a decorator in Python and how is it typically used?\n",
    "# Can you explain the basic syntax of a decorator with a simple example?\n",
    "# How do decorators modify the behavior of a function or method?\n",
    "# What is the difference between a function decorator and a class decorator?\n",
    "# How can decorators be used for logging function calls in Python?\n",
    "# Can you demonstrate how to write a decorator that measures the execution time of a function?\n",
    "# How would you stack multiple decorators on a single function, and in what order are they executed?\n",
    "# Explain the concept of 'closure' in the context of decorators.\n",
    "# How can you pass arguments to a decorator?\n",
    "# Discuss a real-world scenario where using a decorator would be beneficial for code organization or performance enhancement."
   ]
  },
  {
   "cell_type": "code",
   "execution_count": null,
   "id": "b940a2dc",
   "metadata": {},
   "outputs": [],
   "source": []
  }
 ],
 "metadata": {
  "kernelspec": {
   "display_name": "Python 3",
   "language": "python",
   "name": "python3"
  },
  "language_info": {
   "codemirror_mode": {
    "name": "ipython",
    "version": 3
   },
   "file_extension": ".py",
   "mimetype": "text/x-python",
   "name": "python",
   "nbconvert_exporter": "python",
   "pygments_lexer": "ipython3",
   "version": "3.8.3"
  }
 },
 "nbformat": 4,
 "nbformat_minor": 5
}
