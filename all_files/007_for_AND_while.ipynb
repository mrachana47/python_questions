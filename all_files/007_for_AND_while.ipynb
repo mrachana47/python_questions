{
 "cells": [
  {
   "cell_type": "code",
   "execution_count": 2,
   "id": "9953aa7f",
   "metadata": {},
   "outputs": [
    {
     "name": "stdout",
     "output_type": "stream",
     "text": [
      "[12, 24, 36, 48, 60, 72, 84, 96, 108]\n",
      "[18, 36, 54, 72, 90, 108, 126, 144, 162]\n",
      "LCM of 12  and  18  is  36\n",
      "[8, 16, 24, 32, 40, 48, 56, 64, 72]\n",
      "[10, 20, 30, 40, 50, 60, 70, 80, 90]\n",
      "LCM of 8  and  10  is  40\n",
      "[1, 2, 3, 4, 6, 8, 12, 24]\n",
      "[1, 2, 3, 4, 6, 9, 12, 18, 36]\n",
      "GCD of 24  and  36  is  12\n",
      "[1, 3, 5, 15]\n",
      "[1, 5, 25]\n",
      "GCD of 15  and  25  is  5\n"
     ]
    }
   ],
   "source": [
    "# LCM Calculation with For Loop: Write a Python program using a for loop to find the LCM of two numbers, say, 12 and 18.\n",
    "n1 = 12\n",
    "n2 = 18\n",
    "n1_mul_lst = []\n",
    "n2_mul_lst = []\n",
    "for i in range(1,10):\n",
    "    n1_mul_lst.append(n1 * i)\n",
    "    n2_mul_lst.append(n2 *i)\n",
    "\n",
    "print(n1_mul_lst)\n",
    "print(n2_mul_lst)\n",
    "print(\"LCM of\",n1,\" and \", n2, \" is \", min(set(n1_mul_lst).intersection(set(n2_mul_lst))))\n",
    "\n",
    "# LCM Calculation with While Loop: Create a Python program using a while loop to calculate the LCM of 8 and 10.\n",
    "n1 = 8\n",
    "n2 = 10\n",
    "n1_mul_lst = []\n",
    "n2_mul_lst = []\n",
    "i = 1\n",
    "while(i < 10):\n",
    "    n1_mul_lst.append(i*n1)\n",
    "    n2_mul_lst.append(i*n2)\n",
    "    i += 1\n",
    "\n",
    "print(n1_mul_lst)\n",
    "print(n2_mul_lst)\n",
    "print(\"LCM of\",n1,\" and \", n2, \" is \", min(set(n1_mul_lst).intersection(set(n2_mul_lst))))\n",
    "\n",
    "# GCD Calculation with For Loop: Write a Python program using a for loop to compute the GCD of two numbers, such as 24 and 36.\n",
    "n1 = 24\n",
    "n2 = 36\n",
    "n1_divisor_lst = []\n",
    "n2_divisor_lst = []\n",
    "for i in range(1,n1+1):\n",
    "    if n1%i == 0:\n",
    "        n1_divisor_lst.append(i)\n",
    "for i in range(1,n2+1):\n",
    "    if n2%i == 0:\n",
    "        n2_divisor_lst.append(i)\n",
    "\n",
    "print(n1_divisor_lst)\n",
    "print(n2_divisor_lst)\n",
    "print(\"GCD of\",n1,\" and \", n2, \" is \", max(set(n1_divisor_lst).intersection(set(n2_divisor_lst))))\n",
    "\n",
    "# GCD Calculation with While Loop: Create a Python program using a while loop to determine the GCD of 15 and 25.\n",
    "n1 = 15\n",
    "n2 = 25\n",
    "n1_divisor_lst = []\n",
    "n2_divisor_lst = []\n",
    "i = 1\n",
    "while(i < n1+1):\n",
    "    if n1%i == 0:\n",
    "        n1_divisor_lst.append(i)\n",
    "    i += 1\n",
    "\n",
    "i = 1\n",
    "while(i < n2+1):\n",
    "    if n2%i == 0:\n",
    "        n2_divisor_lst.append(i)\n",
    "    i += 1\n",
    "\n",
    "print(n1_divisor_lst)\n",
    "print(n2_divisor_lst)\n",
    "print(\"GCD of\",n1,\" and \", n2, \" is \", max(set(n1_divisor_lst).intersection(set(n2_divisor_lst))))\n",
    "\n",
    "\n",
    "\n",
    "# LCM of a Range: Write a Python program using a for loop to find the LCM of all numbers in the range from 1 to 10.\n",
    "\n",
    "\n",
    "\n",
    "# GCD of a Range: Create a Python program using a while loop to compute the GCD of all numbers in the range from 1 to 15.\n",
    "\n"
   ]
  },
  {
   "cell_type": "code",
   "execution_count": null,
   "id": "94ed733d",
   "metadata": {},
   "outputs": [],
   "source": [
    "# GCD of Multiple Numbers: Create a Python program using a while loop to calculate the GCD of a list of numbers: [18, 24, 36]."
   ]
  },
  {
   "cell_type": "code",
   "execution_count": null,
   "id": "a1537341",
   "metadata": {},
   "outputs": [],
   "source": [
    "# # LCM of Multiple Numbers: Write a Python program using a for loop to find the LCM of a list of numbers: [6, 8, 10, 12].\n",
    "# lst = [6, 8, 10, 12]\n",
    "\n",
    "# for i in lst:\n",
    "#     for j in range(1,11):"
   ]
  },
  {
   "cell_type": "code",
   "execution_count": 9,
   "id": "148c00da",
   "metadata": {},
   "outputs": [
    {
     "name": "stdout",
     "output_type": "stream",
     "text": [
      "[]\n",
      "[]\n",
      "[]\n"
     ]
    },
    {
     "ename": "TypeError",
     "evalue": "'set' object is not callable",
     "output_type": "error",
     "traceback": [
      "\u001b[0;31m---------------------------------------------------------------------------\u001b[0m",
      "\u001b[0;31mTypeError\u001b[0m                                 Traceback (most recent call last)",
      "Cell \u001b[0;32mIn[9], line 31\u001b[0m\n\u001b[1;32m     28\u001b[0m \u001b[38;5;28mprint\u001b[39m(f2_lst)\n\u001b[1;32m     29\u001b[0m \u001b[38;5;28mprint\u001b[39m(f3_lst)\n\u001b[0;32m---> 31\u001b[0m \u001b[38;5;28mprint\u001b[39m(\u001b[38;5;124m\"\u001b[39m\u001b[38;5;124mGCD of\u001b[39m\u001b[38;5;124m\"\u001b[39m,f1,\u001b[38;5;124m\"\u001b[39m\u001b[38;5;124m , \u001b[39m\u001b[38;5;124m\"\u001b[39m, f2,\u001b[38;5;124m\"\u001b[39m\u001b[38;5;124m and \u001b[39m\u001b[38;5;124m\"\u001b[39m,f3, \u001b[38;5;124m\"\u001b[39m\u001b[38;5;124m is \u001b[39m\u001b[38;5;124m\"\u001b[39m, \u001b[38;5;28mmax\u001b[39m(\u001b[38;5;28;43mset\u001b[39;49m\u001b[43m(\u001b[49m\u001b[43mf3_lst\u001b[49m\u001b[43m)\u001b[49m\u001b[38;5;241m.\u001b[39mintersection(\u001b[38;5;28mset\u001b[39m(f1_lst)\u001b[38;5;241m.\u001b[39mintersection(\u001b[38;5;28mset\u001b[39m(f2_lst)))))\n",
      "\u001b[0;31mTypeError\u001b[0m: 'set' object is not callable"
     ]
    }
   ],
   "source": [
    "# GCD of Fractions: Determine the GCD of fractions 4/8, 6/9, and 10/15 using a while loop.\n",
    "f1 = 4/8\n",
    "f2 = 6/9\n",
    "f3 = 10/15\n",
    "f1_lst = []\n",
    "f2_lst = []\n",
    "f3_lst = []\n",
    "\n",
    "i = 1\n",
    "while(i >= f1):\n",
    "    if f1%i == 0:\n",
    "        f1_lst.append(i)\n",
    "    i -= 0.1\n",
    "\n",
    "i = 1\n",
    "while(i >= f2):\n",
    "    if f2%i == 0:\n",
    "        f2_lst.append(i)\n",
    "    i -= 0.1\n",
    "\n",
    "i = 1\n",
    "while(i >= f3):\n",
    "    if f3%i == 0:\n",
    "        f3_lst.append(i)\n",
    "    i -= 0.1\n",
    "\n",
    "print(f1_lst)\n",
    "print(f2_lst)\n",
    "print(f3_lst)\n",
    "\n",
    "print(\"GCD of\",f1,\" , \", f2,\" and \",f3, \" is \", max(set(f3_lst).intersection(set(f1_lst).intersection(set(f2_lst)))))\n"
   ]
  },
  {
   "cell_type": "code",
   "execution_count": null,
   "id": "4f9d337f",
   "metadata": {},
   "outputs": [],
   "source": [
    "\n",
    "# LCM of Fractions: Calculate the LCM of fractions 1/3, 2/5, and 3/7 using a for loop.\n"
   ]
  },
  {
   "cell_type": "code",
   "execution_count": 8,
   "id": "dbc0872a",
   "metadata": {},
   "outputs": [
    {
     "name": "stdout",
     "output_type": "stream",
     "text": [
      "Armstrong number\n",
      "28 is an perfect number\n",
      "List of Armstrong Numbers:\n",
      "1\n",
      "153\n",
      "370\n",
      "371\n",
      "407\n",
      "Sum of digits of 12345 is : 15\n",
      "17 is a prime number\n"
     ]
    }
   ],
   "source": [
    "# Armstrong Number Checker (For Loop): Write a Python program using a for loop to check if a given number, say, 153, is an Armstrong number or not\n",
    "\n",
    "number = 153\n",
    "sum = 0\n",
    "for i in str(number):\n",
    "    sum += int(i)**3\n",
    "\n",
    "if sum == number:\n",
    "    print(\"Armstrong number\")\n",
    "else:\n",
    "    print(\"Not an Armstrong number\")\n",
    "\n",
    "\n",
    "\n",
    "\n",
    "# Perfect Number Checker (For Loop): Write a Python program using a for loop to determine whether a given number, like 28, is a perfect number or not.\n",
    "sum = 0\n",
    "n = 28\n",
    "for i in range(1,n):\n",
    "    if n % i == 0:\n",
    "        sum += i\n",
    "\n",
    "if sum == n:\n",
    "    print(n, \"is an perfect number\")\n",
    "else:\n",
    "    print(n, \"is not an perfect number\")\n",
    "\n",
    "\n",
    "\n",
    "\n",
    "\n",
    "# List of Armstrong Numbers: Write a Python program using a for loop to generate and display all Armstrong numbers in the range from 1 to 500.\n",
    "sum = 0\n",
    "\n",
    "print(\"List of Armstrong Numbers:\")\n",
    "for i in range(1,500+1):\n",
    "    for j in str(i):\n",
    "        sum += int(j)**3\n",
    "    if sum == i:\n",
    "        print(i)\n",
    "    sum = 0\n",
    "\n",
    "\n",
    "\n",
    "# Sum of Digits (For Loop): Write a Python program using a for loop to calculate the sum of the digits of a number, e.g., 12345.\n",
    "n = 12345\n",
    "sum = 0\n",
    "for i in str(n):\n",
    "    sum += int(i)\n",
    "\n",
    "print(\"Sum of digits of\",n,\"is :\",sum)\n",
    "\n",
    "\n",
    "\n",
    "# Prime Number Checker (For Loop): Write a Python program using a for loop to check if a given number, like 17, is a prime number or not.\n",
    "n = 17\n",
    "cnt = 0\n",
    "for i in range(2,n):\n",
    "    if n%i == 0:\n",
    "        cnt += 1\n",
    "\n",
    "if cnt == 0:    \n",
    "    print(n, \"is a prime number\")\n",
    "else:\n",
    "    print(n, \"is not a prime number\")\n",
    "\n",
    "\n",
    "\n",
    "\n",
    "\n",
    "\n"
   ]
  },
  {
   "cell_type": "code",
   "execution_count": 4,
   "id": "af7cb47a",
   "metadata": {},
   "outputs": [
    {
     "name": "stdout",
     "output_type": "stream",
     "text": [
      "407 is Armstrong number\n"
     ]
    }
   ],
   "source": [
    "# Armstrong Number Checker (While Loop): Create a Python program using a while loop to verify if 407 is an Armstrong number.\n",
    "number = 407\n",
    "n = str(number)\n",
    "sum = 0\n",
    "i = 0\n",
    "while( i < len(n) ):\n",
    "    sum += int(n[i])**3\n",
    "    i += 1\n",
    "\n",
    "if sum == number:\n",
    "    print(number, \"is Armstrong number\")\n"
   ]
  },
  {
   "cell_type": "code",
   "execution_count": 7,
   "id": "6ebf2f74",
   "metadata": {},
   "outputs": [
    {
     "name": "stdout",
     "output_type": "stream",
     "text": [
      "6 is a perfect number\n"
     ]
    }
   ],
   "source": [
    "# Perfect Number Checker (While Loop): Create a Python program using a while loop to check if 6 is a perfect number.\n",
    "n = 6\n",
    "sum = 0\n",
    "i = 1\n",
    "while(i < n):\n",
    "    if n%i == 0:\n",
    "        sum += i\n",
    "    i += 1\n",
    "\n",
    "if sum == n:\n",
    "    print(n, \"is a perfect number\")\n",
    "else:\n",
    "    print(n, \"is not a perfect number\")\n",
    "\n",
    "\n"
   ]
  },
  {
   "cell_type": "code",
   "execution_count": 11,
   "id": "c7edf295",
   "metadata": {},
   "outputs": [
    {
     "name": "stdout",
     "output_type": "stream",
     "text": [
      "[6, 28]\n"
     ]
    }
   ],
   "source": [
    "# List of Perfect Numbers: Create a Python program using a while loop to find and print all perfect numbers less than 100. #study\n",
    "i = 1\n",
    "lst = []\n",
    "\n",
    "while(i<100):\n",
    "    j = 1\n",
    "    sum  = 0\n",
    "    while(j < i):\n",
    "        if i%j == 0:\n",
    "            sum += j\n",
    "        j += 1\n",
    "    if sum == i:\n",
    "        lst.append(i)\n",
    "        \n",
    "    i += 1\n",
    "\n",
    "print(lst)"
   ]
  },
  {
   "cell_type": "code",
   "execution_count": 8,
   "id": "f2763084",
   "metadata": {},
   "outputs": [
    {
     "data": {
      "text/plain": [
       "('Sum of digits of', 9876, 'is:', 30)"
      ]
     },
     "execution_count": 8,
     "metadata": {},
     "output_type": "execute_result"
    }
   ],
   "source": [
    "# Sum of Digits (While Loop): Create a Python program using a while loop to find the sum of the digits of 9876.\n",
    "n = 9876\n",
    "sum = 0\n",
    "number = str(n)\n",
    "i = 0\n",
    "while(i < len(number)):\n",
    "    sum += int(number[i])\n",
    "    i += 1\n",
    "\n",
    "(\"Sum of digits of\",n, \"is:\",sum)\n",
    "\n",
    "\n"
   ]
  },
  {
   "cell_type": "code",
   "execution_count": 9,
   "id": "767fac81",
   "metadata": {},
   "outputs": [
    {
     "name": "stdout",
     "output_type": "stream",
     "text": [
      "29 is a prime number\n"
     ]
    }
   ],
   "source": [
    "\n",
    "# Prime Number Checker (While Loop): Create a Python program using a while loop to determine whether 29 is a prime number.\n",
    "n = 29\n",
    "i = 2\n",
    "count = 0\n",
    "while(i < n):\n",
    "    if n%i == 0:\n",
    "        count += 1\n",
    "    i += 1\n",
    "\n",
    "if count > 0:\n",
    "    print(n,\"is not a prime number\")\n",
    "else:\n",
    "    print(n,\"is a prime number\")"
   ]
  }
 ],
 "metadata": {
  "kernelspec": {
   "display_name": "Python 3",
   "language": "python",
   "name": "python3"
  },
  "language_info": {
   "codemirror_mode": {
    "name": "ipython",
    "version": 3
   },
   "file_extension": ".py",
   "mimetype": "text/x-python",
   "name": "python",
   "nbconvert_exporter": "python",
   "pygments_lexer": "ipython3",
   "version": "3.12.1"
  }
 },
 "nbformat": 4,
 "nbformat_minor": 5
}
