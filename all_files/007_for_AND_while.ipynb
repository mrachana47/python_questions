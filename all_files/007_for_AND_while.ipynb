{
 "cells": [
  {
   "cell_type": "code",
   "execution_count": 1,
   "id": "9953aa7f",
   "metadata": {},
   "outputs": [],
   "source": [
    "# LCM Calculation with For Loop: Write a Python program using a for loop to find the LCM of two numbers, say, 12 and 18.\n",
    "# LCM Calculation with While Loop: Create a Python program using a while loop to calculate the LCM of 8 and 10.\n",
    "# GCD Calculation with For Loop: Write a Python program using a for loop to compute the GCD of two numbers, such as 24 and 36.\n",
    "# GCD Calculation with While Loop: Create a Python program using a while loop to determine the GCD of 15 and 25.\n",
    "# LCM of Multiple Numbers: Write a Python program using a for loop to find the LCM of a list of numbers: [6, 8, 10, 12].\n",
    "\n",
    "# GCD of Multiple Numbers: Create a Python program using a while loop to calculate the GCD of a list of numbers: [18, 24, 36].\n",
    "# LCM of a Range: Write a Python program using a for loop to find the LCM of all numbers in the range from 1 to 10.\n",
    "# GCD of a Range: Create a Python program using a while loop to compute the GCD of all numbers in the range from 1 to 15.\n",
    "# LCM of Fractions: Calculate the LCM of fractions 1/3, 2/5, and 3/7 using a for loop.\n",
    "# GCD of Fractions: Determine the GCD of fractions 4/8, 6/9, and 10/15 using a while loop."
   ]
  },
  {
   "cell_type": "code",
   "execution_count": 2,
   "id": "dbc0872a",
   "metadata": {},
   "outputs": [],
   "source": [
    "# Armstrong Number Checker (For Loop): Write a Python program using a for loop to check if a given number, say, 153, is an Armstrong number or not\n",
    "# Armstrong Number Checker (While Loop): Create a Python program using a while loop to verify if 407 is an Armstrong number.\n",
    "# Perfect Number Checker (For Loop): Write a Python program using a for loop to determine whether a given number, like 28, is a perfect number or not.\n",
    "# Perfect Number Checker (While Loop): Create a Python program using a while loop to check if 6 is a perfect number.\n",
    "# List of Armstrong Numbers: Write a Python program using a for loop to generate and display all Armstrong numbers in the range from 1 to 500.\n",
    "\n",
    "# List of Perfect Numbers: Create a Python program using a while loop to find and print all perfect numbers less than 100.\n",
    "# Sum of Digits (For Loop): Write a Python program using a for loop to calculate the sum of the digits of a number, e.g., 12345.\n",
    "# Sum of Digits (While Loop): Create a Python program using a while loop to find the sum of the digits of 9876.\n",
    "# Prime Number Checker (For Loop): Write a Python program using a for loop to check if a given number, like 17, is a prime number or not.\n",
    "# Prime Number Checker (While Loop): Create a Python program using a while loop to determine whether 29 is a prime number."
   ]
  },
  {
   "cell_type": "code",
   "execution_count": null,
   "id": "15e15dfe",
   "metadata": {},
   "outputs": [],
   "source": []
  }
 ],
 "metadata": {
  "kernelspec": {
   "display_name": "Python 3",
   "language": "python",
   "name": "python3"
  },
  "language_info": {
   "codemirror_mode": {
    "name": "ipython",
    "version": 3
   },
   "file_extension": ".py",
   "mimetype": "text/x-python",
   "name": "python",
   "nbconvert_exporter": "python",
   "pygments_lexer": "ipython3",
   "version": "3.8.3"
  }
 },
 "nbformat": 4,
 "nbformat_minor": 5
}
