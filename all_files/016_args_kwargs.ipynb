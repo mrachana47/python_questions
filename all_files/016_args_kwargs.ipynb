{
 "cells": [
  {
   "cell_type": "code",
   "execution_count": 3,
   "id": "1e420b1c",
   "metadata": {},
   "outputs": [],
   "source": [
    "# ----args\n",
    "\n",
    "# What is the purpose of *args in a Python function definition?\n",
    "# How do you use *args to allow a function to accept a variable number of positional arguments?\n",
    "# Can you explain the meaning of \"args\" in *args? Why is it often referred to as \"args\"?\n",
    "# Provide an example of a function that uses *args to sum a variable number of integers.\n",
    "# How can you access the values passed as *args within the function?\n",
    "# What happens if you pass no arguments or multiple arguments to a function with *args?\n",
    "# Is the order of arguments important when using *args in a function call?\n",
    "# Can you use other positional arguments along with *args in the same function?\n",
    "# How do you pass a list as *args to a function?\n",
    "# Are there any best practices or conventions to follow when using *args in Python functions?"
   ]
  },
  {
   "cell_type": "code",
   "execution_count": 4,
   "id": "0342149d",
   "metadata": {},
   "outputs": [],
   "source": [
    "# ----kwargs\n",
    "\n",
    "# What is the purpose of **kwargs in a Python function definition?\n",
    "# How do you use **kwargs to allow a function to accept a variable number of keyword arguments?\n",
    "# Can you explain the meaning of \"kwargs\" in **kwargs? Why is it often referred to as \"kwargs\"?\n",
    "# Provide an example of a function that uses **kwargs to display key-value pairs of arguments.\n",
    "# How can you access the values passed as **kwargs within the function?\n",
    "# What happens if you pass no keyword arguments or multiple keyword arguments to a function with **kwargs?\n",
    "# Is the order of keyword arguments important when using **kwargs in a function call?\n",
    "# Can you use other keyword arguments along with **kwargs in the same function?\n",
    "# How do you pass a dictionary as **kwargs to a function?\n",
    "# Are there any best practices or conventions to follow when using **kwargs in Python functions?"
   ]
  },
  {
   "cell_type": "code",
   "execution_count": null,
   "id": "42e83751",
   "metadata": {},
   "outputs": [],
   "source": []
  }
 ],
 "metadata": {
  "kernelspec": {
   "display_name": "Python 3",
   "language": "python",
   "name": "python3"
  },
  "language_info": {
   "codemirror_mode": {
    "name": "ipython",
    "version": 3
   },
   "file_extension": ".py",
   "mimetype": "text/x-python",
   "name": "python",
   "nbconvert_exporter": "python",
   "pygments_lexer": "ipython3",
   "version": "3.8.3"
  }
 },
 "nbformat": 4,
 "nbformat_minor": 5
}
