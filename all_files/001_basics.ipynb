{
 "cells": [
  {
   "cell_type": "code",
   "execution_count": 9,
   "id": "4d51f677",
   "metadata": {},
   "outputs": [],
   "source": [
    "a = 10\n",
    "b = 3\n",
    "my_string = \"Hello, World!\"\n",
    "my_list = [1, 2, 3, 4, 5]\n",
    "my_tuple = (6, 7, 8)\n"
   ]
  },
  {
   "cell_type": "code",
   "execution_count": 3,
   "id": "542f0f6b",
   "metadata": {},
   "outputs": [],
   "source": [
    "# -----------Variables\n",
    "\n",
    "# How do you change the value of a?\n",
    "a = 3\n",
    "# What happens when you try to use a variable c that has not been defined?\n",
    "#throws undefined variable error\n",
    "# Can a variable name start with a number, like 1var?\n",
    "#No, it voilates the guidelines\n",
    "# How would you declare a new variable d and assign it the sum of a and b?\n",
    "d = a + b"
   ]
  },
  {
   "cell_type": "code",
   "execution_count": 8,
   "id": "57654458",
   "metadata": {},
   "outputs": [
    {
     "ename": "ValueError",
     "evalue": "invalid literal for int() with base 10: 'Hello, World!'",
     "output_type": "error",
     "traceback": [
      "\u001b[0;31m---------------------------------------------------------------------------\u001b[0m",
      "\u001b[0;31mValueError\u001b[0m                                Traceback (most recent call last)",
      "Cell \u001b[0;32mIn[8], line 15\u001b[0m\n\u001b[1;32m      8\u001b[0m my_string \u001b[38;5;241m+\u001b[39m b\n\u001b[1;32m     10\u001b[0m \u001b[38;5;66;03m# What is the difference between my_list and my_tuple?\u001b[39;00m\n\u001b[1;32m     11\u001b[0m \u001b[38;5;66;03m#my_list is an mutable type and tuple is immutable\u001b[39;00m\n\u001b[1;32m     12\u001b[0m \n\u001b[1;32m     13\u001b[0m \u001b[38;5;66;03m# How do you convert my_string to an integer? (Consider discussing what happens when conversion is not straightforward)\u001b[39;00m\n\u001b[1;32m     14\u001b[0m \u001b[38;5;66;03m#It throws an error, since str to int conversion is not possible.\u001b[39;00m\n\u001b[0;32m---> 15\u001b[0m \u001b[38;5;28;43mint\u001b[39;49m\u001b[43m(\u001b[49m\u001b[43mmy_string\u001b[49m\u001b[43m)\u001b[49m\n",
      "\u001b[0;31mValueError\u001b[0m: invalid literal for int() with base 10: 'Hello, World!'"
     ]
    }
   ],
   "source": [
    "# -------------- Data Types\n",
    "# What is the data type of my_list and how can you check it?\n",
    "#Datatype is list and it can be checked as below:\n",
    "type(my_list)\n",
    "\n",
    "# Convert b to a string and concatenate it with my_string.\n",
    "b = str(b)\n",
    "my_string + b\n",
    "\n",
    "# What is the difference between my_list and my_tuple?\n",
    "#my_list is an mutable type and tuple is immutable\n",
    "\n",
    "# How do you convert my_string to an integer? (Consider discussing what happens when conversion is not straightforward)\n",
    "#It throws an error, since str to int conversion is not possible.\n",
    "int(my_string)"
   ]
  },
  {
   "cell_type": "code",
   "execution_count": 7,
   "id": "606774d6",
   "metadata": {},
   "outputs": [
    {
     "data": {
      "text/plain": [
       "13"
      ]
     },
     "execution_count": 7,
     "metadata": {},
     "output_type": "execute_result"
    }
   ],
   "source": [
    "# ---------------- Strings\n",
    "\n",
    "# Concatenate my_string with another string, say \" Welcome!\".\n",
    "my_string+\" Welcome!\"\n",
    "# How do you access the first 5 characters of my_string?\n",
    "my_string[:5]\n",
    "# Convert the number a to a string and concatenate it with my_string.\n",
    "str(a) + my_string\n",
    "# What is the length of my_string?\n",
    "len(my_string)"
   ]
  },
  {
   "cell_type": "code",
   "execution_count": 16,
   "id": "8ba9b5f7",
   "metadata": {},
   "outputs": [
    {
     "name": "stdout",
     "output_type": "stream",
     "text": [
      "a 9\n",
      "b 4\n",
      "True\n"
     ]
    },
    {
     "data": {
      "text/plain": [
       "True"
      ]
     },
     "execution_count": 16,
     "metadata": {},
     "output_type": "execute_result"
    }
   ],
   "source": [
    "# -------------------------- Operators\n",
    "\n",
    "# Show the difference between = and == using a and b.\n",
    "# = is for assigning the value and '==' is for comparision of values\n",
    "print(\"a\",a)\n",
    "print(\"b\",b)\n",
    "a = b\n",
    "if(a == b):\n",
    "    print(True)\n",
    "else:\n",
    "    print(False)\n",
    "\n",
    "# Provide examples of arithmetic operators using a and b.\n",
    "a+b\n",
    "a-b\n",
    "a*b\n",
    "a/b #gives the quotient as output along with the decimal value\n",
    "a%b #gives remainder \n",
    "a//b #does floor division and results in only the integer part of the quotient\n",
    "\n",
    "# What is the result of a // b?\n",
    "a = 9\n",
    "b = 4\n",
    "a // b\n",
    "\n",
    "# Explain operator precedence by creating an expression using +, -, *, and / with a and b.\n",
    "a+(b-(a*(a/b))) #operator precedence is /,*,+,- \n",
    "\n",
    "\n",
    "# Is 3 in my_list? Use the in operator.\n",
    "3 in(my_list)\n",
    "\n",
    "# What is the result of a // b and what does it represent?\n",
    "# 9//4 gives 2, i.e integer part of the quotient \n",
    "\n",
    "# How do you find the remainder when a is divided by b?\n",
    "a%b\n",
    "\n",
    "# Explain the difference between a / b and a // b with an example.\n",
    "# / gives the quotient(integer+decimal) whereas, // does floor division and results in integer part of the quotient excluding the remainder\n"
   ]
  },
  {
   "cell_type": "code",
   "execution_count": 11,
   "id": "cf70df71",
   "metadata": {},
   "outputs": [
    {
     "name": "stdout",
     "output_type": "stream",
     "text": [
      "b is greater than a\n"
     ]
    }
   ],
   "source": [
    "# ---------------Conditionals\n",
    "\n",
    "# Write an if statement to check if a is greater than b.\n",
    "if (a>b):\n",
    "    print(\"a is greater than b\")\n",
    "else:\n",
    "    print(\"b is greater than a\")\n",
    "\n",
    "# Can you have an else statement without an if statement? Illustrate with a and b.\n",
    "# else:\n",
    "#     print(\"b is greater than a\")\n",
    "#throws error\n",
    "\n",
    "# Use elif to check multiple conditions on a and b.\n",
    "if (a>b):\n",
    "    print(\"a is greater than b\")\n",
    "elif (a<b):\n",
    "    print(\"b is greater than a\")\n",
    "else:\n",
    "    print(\"a equals b\")\n",
    "\n",
    "# Create a condition with a, b, and logical operators and, or."
   ]
  },
  {
   "cell_type": "code",
   "execution_count": null,
   "id": "40b88e63",
   "metadata": {},
   "outputs": [],
   "source": []
  },
  {
   "cell_type": "code",
   "execution_count": null,
   "id": "4342713c",
   "metadata": {},
   "outputs": [],
   "source": []
  }
 ],
 "metadata": {
  "kernelspec": {
   "display_name": "Python 3",
   "language": "python",
   "name": "python3"
  },
  "language_info": {
   "codemirror_mode": {
    "name": "ipython",
    "version": 3
   },
   "file_extension": ".py",
   "mimetype": "text/x-python",
   "name": "python",
   "nbconvert_exporter": "python",
   "pygments_lexer": "ipython3",
   "version": "3.12.1"
  }
 },
 "nbformat": 4,
 "nbformat_minor": 5
}
