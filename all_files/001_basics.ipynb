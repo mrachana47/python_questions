{
 "cells": [
  {
   "cell_type": "code",
   "execution_count": 1,
   "id": "4d51f677",
   "metadata": {},
   "outputs": [],
   "source": [
    "a = 10\n",
    "b = 3\n",
    "my_string = \"Hello, World!\"\n",
    "my_list = [1, 2, 3, 4, 5]\n",
    "my_tuple = (6, 7, 8)\n"
   ]
  },
  {
   "cell_type": "code",
   "execution_count": 3,
   "id": "542f0f6b",
   "metadata": {},
   "outputs": [],
   "source": [
    "# -----------Variables\n",
    "\n",
    "# How do you change the value of a?\n",
    "# What happens when you try to use a variable c that has not been defined?\n",
    "# Can a variable name start with a number, like 1var?\n",
    "# How would you declare a new variable d and assign it the sum of a and b?"
   ]
  },
  {
   "cell_type": "code",
   "execution_count": 4,
   "id": "57654458",
   "metadata": {},
   "outputs": [],
   "source": [
    "# -------------- Data Types\n",
    "# What is the data type of my_list and how can you check it?\n",
    "# Convert b to a string and concatenate it with my_string.\n",
    "# What is the difference between my_list and my_tuple?\n",
    "# How do you convert my_string to an integer? (Consider discussing what happens when conversion is not straightforward)\n"
   ]
  },
  {
   "cell_type": "code",
   "execution_count": 5,
   "id": "606774d6",
   "metadata": {},
   "outputs": [],
   "source": [
    "# ---------------- Strings\n",
    "\n",
    "# Concatenate my_string with another string, say \" Welcome!\".\n",
    "# How do you access the first 5 characters of my_string?\n",
    "# Convert the number a to a string and concatenate it with my_string.\n",
    "# What is the length of my_string?"
   ]
  },
  {
   "cell_type": "code",
   "execution_count": 6,
   "id": "8ba9b5f7",
   "metadata": {},
   "outputs": [],
   "source": [
    "# -------------------------- Operators\n",
    "\n",
    "# Show the difference between = and == using a and b.\n",
    "# Provide examples of arithmetic operators using a and b.\n",
    "# What is the result of a // b?\n",
    "# Explain operator precedence by creating an expression using +, -, *, and / with a and b.\n",
    "# Is 3 in my_list? Use the in operator.\n",
    "# What is the result of a // b and what does it represent?\n",
    "# How do you find the remainder when a is divided by b?\n",
    "# Explain the difference between a / b and a // b with an example."
   ]
  },
  {
   "cell_type": "code",
   "execution_count": 7,
   "id": "cf70df71",
   "metadata": {},
   "outputs": [],
   "source": [
    "# ---------------Conditionals\n",
    "\n",
    "# Write an if statement to check if a is greater than b.\n",
    "# Can you have an else statement without an if statement? Illustrate with a and b.\n",
    "# Use elif to check multiple conditions on a and b.\n",
    "# Create a condition with a, b, and logical operators and, or."
   ]
  },
  {
   "cell_type": "code",
   "execution_count": null,
   "id": "40b88e63",
   "metadata": {},
   "outputs": [],
   "source": []
  },
  {
   "cell_type": "code",
   "execution_count": null,
   "id": "4342713c",
   "metadata": {},
   "outputs": [],
   "source": []
  }
 ],
 "metadata": {
  "kernelspec": {
   "display_name": "Python 3",
   "language": "python",
   "name": "python3"
  },
  "language_info": {
   "codemirror_mode": {
    "name": "ipython",
    "version": 3
   },
   "file_extension": ".py",
   "mimetype": "text/x-python",
   "name": "python",
   "nbconvert_exporter": "python",
   "pygments_lexer": "ipython3",
   "version": "3.8.3"
  }
 },
 "nbformat": 4,
 "nbformat_minor": 5
}
