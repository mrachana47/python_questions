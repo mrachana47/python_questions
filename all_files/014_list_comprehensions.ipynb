{
 "cells": [
  {
   "cell_type": "code",
   "execution_count": 2,
   "id": "12d49165",
   "metadata": {},
   "outputs": [],
   "source": [
    "numbers = [1, 2, 3, 4, 5, 6, 7, 8, 9, 10]\n"
   ]
  },
  {
   "cell_type": "code",
   "execution_count": null,
   "id": "ef715011",
   "metadata": {},
   "outputs": [
    {
     "name": "stdout",
     "output_type": "stream",
     "text": [
      "Square of a number [1, 4, 9, 16, 25, 36, 49, 64, 81, 100]\n",
      "Even number [2, 4, 6, 8, 10]\n",
      "cube of each odd [1, 27, 125, 343, 729]\n",
      "vowels in given string ['I', 'a', 'a', 'a', 'a', 'u', 'u', 'a']\n",
      "List os strings to upper case ['RACHANA', 'MUSKULA', 'MASTERS', 'COMPUTER SCIENCE']\n",
      "using if-else ['odd number', 2, 'odd number', 4, 'odd number', 6, 'odd number', 8, 'odd number', 10]\n",
      "[1, 2, 6, 24, 120, 720, 5040, 40320, 362880, 3628800]\n",
      "first letter of each word ['R', 'M', 'i', 'P', 'M', 'i', 'C', 'S']\n"
     ]
    }
   ],
   "source": [
    "# How can you use a list comprehension to create a new list that contains the square of each number in the numbers list?\n",
    "print(\"Square of a number\",[ i*i for i in numbers])\n",
    "\n",
    "# What is the syntax for a basic list comprehension in Python?\n",
    "# [i for i in lst]\n",
    "\n",
    "# Create a list comprehension to filter out even numbers from the numbers list.\n",
    "print(\"Even number\",[i for i in numbers if i%2==0])\n",
    "\n",
    "# How do you add a condition to a list comprehension to filter elements based on a specific criterion?\n",
    "# As done above, use if condition to filter elements\n",
    "\n",
    "# Use a list comprehension to generate a new list that contains the cube of each odd number from the numbers list.\n",
    "print(\"cube of each odd\",[i**3 for i in numbers if i%2!=0])\n",
    "\n",
    "# What is the difference between a list comprehension and a traditional for loop for creating lists?\n",
    "#Both gives same output, but list comprehension's are fast and better compared to traditional one's\n",
    "\n",
    "# How can you modify the sample list to include both even and odd numbers for testing list comprehensions?#study\n",
    "\n",
    "\n",
    "# Create a list comprehension to extract all the vowels (a, e, i, o, u) from a given string.\n",
    "given_String = \"I am Rachana Muskula\"\n",
    "# vowel_lst = []\n",
    "# for i in given_String:\n",
    "#     # if i.lower() in ['a','e','i','o','u']:\n",
    "#     if i.lower() in 'aeiou':\n",
    "#         vowel_lst.append(i)\n",
    "# print(vowel_lst)        \n",
    "\n",
    "print(\"vowels in given string\",[i for i in given_String if i.lower() in \"aeiou\"])\n",
    "\n",
    "# What are the advantages of using list comprehensions over traditional for loops in Python? #study\n",
    "\n",
    "\n",
    "# Write a list comprehension to convert a list of strings to uppercase.\n",
    "lst = [\"Rachana\",\"Muskula\",\"Masters\",\"Computer Science\"]\n",
    "print(\"List os strings to upper case\",[i.upper()for i in lst])\n",
    "\n",
    "# How can you use list comprehensions with nested loops to flatten a list of lists? #study\n",
    "\n",
    "\n",
    "# Create a list comprehension to find all prime numbers within a specified range. #priority1\n",
    "\n",
    "\n",
    "\n",
    "# What happens if you try to use a list comprehension to modify the elements of an existing list instead of creating a new list?\n",
    "\n",
    "\n",
    "# How can you add an else clause to a list comprehension for conditional operations?\n",
    "print(\"using if-else\",[i if i%2 == 0 else \"odd number\" for i in numbers ])\n",
    "\n",
    "# Write a list comprehension to calculate the factorial of each number in the numbers list. \n",
    "#factorial for a number\n",
    "def fact_num():\n",
    "    for i in numbers:\n",
    "        #fact = i\n",
    "        number = i\n",
    "        while number > 1:\n",
    "            i *= number-1\n",
    "            number = number-1\n",
    "        yield i\n",
    "        \n",
    "\n",
    "print([i for i in fact_num()])   \n",
    "# we can't use while in the list comprehensions directly]\n",
    "\n",
    "# Can you use list comprehensions to perform operations on dictionaries? #priority2\n",
    "\n",
    "\n",
    "# How do you handle exceptions within a list comprehension if an element doesn't meet the specified criteria?\n",
    "\n",
    "\n",
    "# Use a list comprehension to extract the first letter of each word in a given sentence.\n",
    "given_string = \"Rachana Muskula is Pursuing Masters in Computer Science\"\n",
    "print(\"first letter of each word\",[i[0] for i in given_string.split(\" \")]) # splits words\n",
    "#print(\"first letter of each word\",[i[0] for i in given_string]) # iterates each letter in i\n",
    "\n",
    "# What is the maximum depth of nesting allowed in list comprehensions in Python?\n",
    "\n",
    "\n",
    "# How can you use list comprehensions to create a matrix (list of lists) with specified dimensions?\n",
    "\n"
   ]
  },
  {
   "cell_type": "code",
   "execution_count": null,
   "id": "b11d7860",
   "metadata": {},
   "outputs": [
    {
     "data": {
      "text/plain": [
       "[2]"
      ]
     },
     "execution_count": 3,
     "metadata": {},
     "output_type": "execute_result"
    }
   ],
   "source": [
    "[i for i in range(1, 100) count = 0 for j in range(2,i) if i%j==0 count += 1 if count == 0]\n",
    "    \n"
   ]
  },
  {
   "cell_type": "code",
   "execution_count": 4,
   "id": "0466f831",
   "metadata": {},
   "outputs": [
    {
     "name": "stdout",
     "output_type": "stream",
     "text": [
      "[1, 2, 3, 4, 5, 6]\n"
     ]
    }
   ],
   "source": [
    "matrix = [[1, 2, 3], [4, 5, 6]]\n",
    "flattened = [num for row in matrix for num in row]\n",
    "print(flattened)"
   ]
  },
  {
   "cell_type": "code",
   "execution_count": 1,
   "id": "90e75bf6",
   "metadata": {},
   "outputs": [
    {
     "name": "stdout",
     "output_type": "stream",
     "text": [
      "2\n",
      "3\n"
     ]
    }
   ],
   "source": [
    "for j in range(2,4):\n",
    "    print(j)"
   ]
  }
 ],
 "metadata": {
  "kernelspec": {
   "display_name": "Python 3",
   "language": "python",
   "name": "python3"
  },
  "language_info": {
   "codemirror_mode": {
    "name": "ipython",
    "version": 3
   },
   "file_extension": ".py",
   "mimetype": "text/x-python",
   "name": "python",
   "nbconvert_exporter": "python",
   "pygments_lexer": "ipython3",
   "version": "3.12.1"
  }
 },
 "nbformat": 4,
 "nbformat_minor": 5
}
