{
 "cells": [
  {
   "cell_type": "code",
   "execution_count": 2,
   "id": "12d49165",
   "metadata": {},
   "outputs": [],
   "source": [
    "numbers = [1, 2, 3, 4, 5, 6, 7, 8, 9, 10]\n"
   ]
  },
  {
   "cell_type": "code",
   "execution_count": 9,
   "id": "ef715011",
   "metadata": {},
   "outputs": [
    {
     "name": "stdout",
     "output_type": "stream",
     "text": [
      "Square of a number [1, 4, 9, 16, 25, 36, 49, 64, 81, 100]\n",
      "Even number [2, 4, 6, 8, 10]\n",
      "cube of each odd [1, 27, 125, 343, 729]\n"
     ]
    }
   ],
   "source": [
    "# How can you use a list comprehension to create a new list that contains the square of each number in the numbers list?\n",
    "print(\"Square of a number\",[ i*i for i in numbers])\n",
    "\n",
    "# What is the syntax for a basic list comprehension in Python?\n",
    "# [i for i in lst]\n",
    "\n",
    "# Create a list comprehension to filter out even numbers from the numbers list.\n",
    "print(\"Even number\",[i for i in numbers if i%2==0])\n",
    "\n",
    "# How do you add a condition to a list comprehension to filter elements based on a specific criterion?\n",
    "# As done above, use if condition to filter elements\n",
    "\n",
    "# Use a list comprehension to generate a new list that contains the cube of each odd number from the numbers list.\n",
    "print(\"cube of each odd\",[i**3 for i in numbers if i%2!=0])\n",
    "\n",
    "# What is the difference between a list comprehension and a traditional for loop for creating lists?\n",
    "#Both gives same output, but list comprehension's are fast and better compared to traditional one's\n",
    "\n",
    "# How can you modify the sample list to include both even and odd numbers for testing list comprehensions?\n",
    "\n",
    "\n",
    "# Create a list comprehension to extract all the vowels (a, e, i, o, u) from a given string.\n",
    "\n",
    "\n",
    "# What are the advantages of using list comprehensions over traditional for loops in Python?\n",
    "\n",
    "\n",
    "# Write a list comprehension to convert a list of strings to uppercase.\n",
    "\n",
    "\n",
    "# How can you use list comprehensions with nested loops to flatten a list of lists?\n",
    "\n",
    "\n",
    "# Create a list comprehension to find all prime numbers within a specified range.\n",
    "\n",
    "\n",
    "# What happens if you try to use a list comprehension to modify the elements of an existing list instead of creating a new list?\n",
    "\n",
    "\n",
    "# How can you add an else clause to a list comprehension for conditional operations?\n",
    "\n",
    "\n",
    "# Write a list comprehension to calculate the factorial of each number in the numbers list.\n",
    "\n",
    "\n",
    "# Can you use list comprehensions to perform operations on dictionaries?\n",
    "\n",
    "\n",
    "# How do you handle exceptions within a list comprehension if an element doesn't meet the specified criteria?\n",
    "\n",
    "\n",
    "# Use a list comprehension to extract the first letter of each word in a given sentence.\n",
    "\n",
    "\n",
    "# What is the maximum depth of nesting allowed in list comprehensions in Python?\n",
    "\n",
    "\n",
    "# How can you use list comprehensions to create a matrix (list of lists) with specified dimensions?\n",
    "\n"
   ]
  },
  {
   "cell_type": "code",
   "execution_count": 9,
   "id": "b11d7860",
   "metadata": {},
   "outputs": [],
   "source": [
    "# hello"
   ]
  },
  {
   "cell_type": "code",
   "execution_count": null,
   "id": "90e75bf6",
   "metadata": {},
   "outputs": [],
   "source": []
  }
 ],
 "metadata": {
  "kernelspec": {
   "display_name": "Python 3",
   "language": "python",
   "name": "python3"
  },
  "language_info": {
   "codemirror_mode": {
    "name": "ipython",
    "version": 3
   },
   "file_extension": ".py",
   "mimetype": "text/x-python",
   "name": "python",
   "nbconvert_exporter": "python",
   "pygments_lexer": "ipython3",
   "version": "3.12.1"
  }
 },
 "nbformat": 4,
 "nbformat_minor": 5
}
