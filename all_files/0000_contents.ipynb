{
 "cells": [
  {
   "cell_type": "code",
   "execution_count": 1,
   "id": "565fd85f",
   "metadata": {},
   "outputs": [],
   "source": [
    "# Regular Expressions\n",
    "# *args, **kwargs\n",
    "# Modules & Packages\n",
    "\n",
    "# Classes & Objects\n",
    "# Inheritance & Polymorphism\n",
    "# Encapsulation & Abstraction\n",
    "# Abstract Base Classes (ABCs)\n",
    "\n",
    "# Decorators (basics)\n",
    "# Context Managers (basics)\n",
    "# Unit Testing\n",
    "# Virtual Environments\n",
    "# Database Access\n"
   ]
  },
  {
   "cell_type": "code",
   "execution_count": null,
   "id": "8b0b8040",
   "metadata": {},
   "outputs": [],
   "source": []
  }
 ],
 "metadata": {
  "kernelspec": {
   "display_name": "Python 3",
   "language": "python",
   "name": "python3"
  },
  "language_info": {
   "codemirror_mode": {
    "name": "ipython",
    "version": 3
   },
   "file_extension": ".py",
   "mimetype": "text/x-python",
   "name": "python",
   "nbconvert_exporter": "python",
   "pygments_lexer": "ipython3",
   "version": "3.8.3"
  }
 },
 "nbformat": 4,
 "nbformat_minor": 5
}
