{
 "cells": [
  {
   "cell_type": "code",
   "execution_count": 1,
   "id": "3514fdae",
   "metadata": {},
   "outputs": [],
   "source": [
    "# count(element): Returns the number of times a specified element appears in the tuple.\n",
    "# index(element): Returns the index of the first occurrence of a specified element in the tuple.\n",
    "# len(tuple): Returns the number of elements in the tuple.\n",
    "# tuple(seq): Converts a sequence (e.g., list, string) into a tuple.\n",
    "# max(tuple): Returns the largest element in the tuple.\n",
    "# min(tuple): Returns the smallest element in the tuple.\n",
    "# sorted(tuple): Returns a new list with the elements of the tuple sorted.\n",
    "# sum(tuple): Returns the sum of all elements in the tuple if they are numbers.\n",
    "# any(tuple): Returns True if at least one element in the tuple is True.\n",
    "# all(tuple): Returns True if all elements in the tuple are True.\n",
    "# tuple1 + tuple2: Concatenates two tuples to create a new tuple.\n",
    "# tuple * n: Creates a new tuple with the elements repeated n times.\n",
    "# tuple[start:end]: Slices the tuple to create a new tuple with elements from the start index to the end index (exclusive).\n",
    "# tuple.count(element): Returns the number of times a specified element appears in the tuple.\n",
    "# tuple.index(element): Returns the index of the first occurrence of a specified element in the tuple.\n",
    "# tuple1 == tuple2: Checks if two tuples are equal.\n",
    "# tuple.copy(): Creates a shallow copy of the tuple.\n",
    "# del tuple: Deletes the entire tuple.\n",
    "# iter(tuple): Returns an iterator for the tuple.\n",
    "# tuple.contains(element): Checks if an element is present in the tuple (can also be used with the in operator)."
   ]
  },
  {
   "cell_type": "code",
   "execution_count": 1,
   "id": "764d50f6",
   "metadata": {},
   "outputs": [],
   "source": [
    "fruits = (\"Apple\", \"Orange\", \"Grapes\")"
   ]
  },
  {
   "cell_type": "code",
   "execution_count": 32,
   "id": "205a76cf",
   "metadata": {},
   "outputs": [
    {
     "name": "stdout",
     "output_type": "stream",
     "text": [
      "('Mango', 'lemon', 'Pear', 'Banana')\n",
      "('Apple', 'Orange', 'Grapes', 1, 2, 3)\n",
      "Apple\n",
      "Orange\n",
      "Grapes\n"
     ]
    },
    {
     "data": {
      "text/plain": [
       "3"
      ]
     },
     "execution_count": 32,
     "metadata": {},
     "output_type": "execute_result"
    }
   ],
   "source": [
    "# Create an example tuple called fruits containing the names of three different fruits.\n",
    "fruits = (\"Mango\",\"lemon\",\"Pear\")\n",
    "\n",
    "# How would you access the second element of the fruits tuple?\n",
    "fruits[1]\n",
    "\n",
    "# Add a new fruit, \"Banana,\" to the fruits tuple.\n",
    "# fruits.add(\"Banana\")\n",
    "# print(fruits)\n",
    "# above statements won't work, because tuple is immutable\n",
    "fruits += (\"Banana\",)\n",
    "print(fruits)\n",
    "\n",
    "# Can you find the index of the fruit \"Apple\" in the fruits tuple?\n",
    "fruits = (\"Apple\", \"Orange\", \"Grapes\")\n",
    "fruits.index(\"Apple\")\n",
    "\n",
    "# Check if the fruit \"Mango\" exists in the fruits tuple.\n",
    "\"Mango\" in fruits\n",
    "\n",
    "\n",
    "# Create another tuple called numbers with three integer values.\n",
    "number_tuple = (1,2,3)\n",
    "\n",
    "# Concatenate the fruits and numbers tuples into a new tuple called combined.\n",
    "combined_tuple = fruits + number_tuple\n",
    "print(combined_tuple)\n",
    "\n",
    "# Check the length of the combined tuple.\n",
    "len(combined_tuple)\n",
    "# Create a sorted version of the numbers tuple. \n",
    "sorted(number_tuple) #returns sorted list of numbers\n",
    "\n",
    "# Find the maximum value in the numbers tuple.\n",
    "max(number_tuple)\n",
    "\n",
    "# Delete the numbers tuple.\n",
    "del number_tuple\n",
    "\n",
    "\n",
    "# Create a shallow copy of the fruits tuple and call it fruits_copy. #study\n",
    "#fruits_copy = fruits.copy()\n",
    "\n",
    "# Check if the fruits and fruits_copy tuples are equal. #study\n",
    "\n",
    "# Use tuple unpacking to assign the values of the fruits tuple to three variables: fruit1, fruit2, and fruit3.\n",
    "fruit1, fruit2, fruit3 = fruits\n",
    "# print(fruit1)\n",
    "# print(fruit2)\n",
    "# print(fruit3)\n",
    "\n",
    "# Check if any element in the fruits tuple contains the letter \"a.\"\n",
    "for i in fruits:\n",
    "    if 'a' in i.lower():\n",
    "        print(i)\n",
    "\n",
    "\n",
    "# Use the * operator to create a new tuple called rest_of_fruits containing the remaining fruits from the fruits tuple after removing the first one.\n",
    "#fruits.pop(0)\n",
    "#rest_of_fruits = \n",
    "#study\n",
    "\n",
    "# Check if all elements in the numbers tuple are greater than zero.\n",
    "#study\n",
    "\n",
    "# Find the index of the last occurrence of \"Banana\" in the fruits tuple.\n",
    "test_fruits = ('Apple', 'Orange', 'Grapes','Banana','Banana')\n",
    "test_fruits.index('Banana') #returns index of the first occurance of the item not last occurance #study\n",
    "\n",
    "# Clear all items from the fruits tuple.\n",
    "#fruits.clear() # study\n",
    "\n",
    "# Explain the difference between a shallow copy and a deep copy of a tuple. #Study\n",
    "\n"
   ]
  },
  {
   "cell_type": "code",
   "execution_count": 57,
   "id": "552fac96",
   "metadata": {},
   "outputs": [
    {
     "name": "stdout",
     "output_type": "stream",
     "text": [
      "('Apple', 'Orange', 'Grapes', 'Papaya', 'Papaya', 'Papaya', 'Papaya', 'Papaya', 'Papaya')\n",
      "1 2 3\n",
      "[9, 6, 7]\n",
      "Apple Orange Grapes Papaya Papaya Papaya Papaya Papaya Papaya\n"
     ]
    },
    {
     "data": {
      "text/plain": [
       "('Orange',\n",
       " 'Grapes',\n",
       " 'Papaya',\n",
       " 'Papaya',\n",
       " 'Papaya',\n",
       " 'Papaya',\n",
       " 'Papaya',\n",
       " 'Papaya')"
      ]
     },
     "execution_count": 57,
     "metadata": {},
     "output_type": "execute_result"
    }
   ],
   "source": [
    "# How can you check if a specific item, let's say \"Banana,\" exists in the fruits tuple?\n",
    "\"Banana\" in fruits\n",
    "\n",
    "# Is it possible to modify an item within a tuple? If not, explain why.\n",
    "#fruits[0] = \"another_fruit\" #no a tuple can't be modified because of it's immutability \n",
    "\n",
    "# Can you concatenate two tuples, like fruits and more_fruits, to create a new tuple?\n",
    "#answer: yes\n",
    "more_fruits = (\"f1\",\"f2\",\"f3\")\n",
    "fruits + more_fruits\n",
    "\n",
    "# How do you find the index of the last occurrence of a particular item, such as \"Grapes,\" in the fruits tuple? # study\n",
    "\n",
    "# What happens when you try to delete an entire tuple using the del statement?\n",
    "# deletes entire instance of the tuple\n",
    "\n",
    "# Can you create a new tuple by repeating the elements of the fruits tuple three times?\n",
    "fruits * 3\n",
    "\n",
    "# Explain the difference between a one-element tuple and a single value enclosed in parentheses.\n",
    "#study\n",
    "\n",
    "# How can you count the occurrences of a specific item, for example, \"Orange,\" within the fruits tuple?\n",
    "fruits.count(\"Orange\")\n",
    "\n",
    "# Is it possible to use the + operator to add a single element to the fruits tuple?\n",
    "#fruits += (\"Papaya\",)\n",
    "print(fruits) \n",
    "\n",
    "# What happens when you try to sort the fruits tuple using the sorted() function?\n",
    "#sorts the tuple and returns the list of elements in ascending order\n",
    "sorted(fruits)\n",
    "#sorted(fruits)\n",
    "\n",
    "# How can you create a new tuple by reversing the elements of the fruits tuple? #study\n",
    "#fruits.reversed()\n",
    "\n",
    "# Can you explain why tuples are often used as keys in dictionaries but lists cannot be used as keys?\n",
    "#because of its immutability\n",
    "\n",
    "# What is tuple packing and tuple unpacking, and how are they related to function arguments in Python? #study\n",
    "#tuple unpacking\n",
    "tuple1  = (1,2,3)\n",
    "n1 , n2 , n3 = tuple1\n",
    "print(n1,n2,n3)\n",
    "\n",
    "# How can you create a shallow copy of the fruits tuple and modify the copied tuple without affecting the original?\n",
    "#fruits.copy()\n",
    "\n",
    "# Is it possible to convert the fruits tuple into a list? If so, how can it be done?\n",
    "list(fruits)\n",
    "\n",
    "# Explain the concept of tuple immutability and how it differs from lists in Python.\n",
    "#elements of tuple can't be modified and list can be\n",
    "ex_tuple = (5,6,7)\n",
    "#ex_tuple[0] = 9 #can't be modified\n",
    "ex_lst = list(ex_tuple)\n",
    "ex_lst[0] = 9\n",
    "print(ex_lst)\n",
    "\n",
    "# How can you use tuple unpacking to assign the elements of the fruits tuple to multiple variables in a single line?\n",
    "fr1, *fr2, fr3 = fruits\n",
    "print(fr1, *fr2, fr3)\n",
    "\n",
    "# Can you provide an example of using the zip() function with the fruits tuple and another iterable? #study\n",
    "\n",
    "\n",
    "# What is tuple slicing, and how can it be used to extract a subset of elements from the fruits tuple?\n",
    "fruits[1:len(fruits)]\n",
    "\n",
    "# Describe a situation where using a tuple is more suitable than using a list in Python.\n",
    "# while listing the awards assigned to the candidates year-wise which shouldn't be modified\n"
   ]
  },
  {
   "cell_type": "code",
   "execution_count": 59,
   "id": "23ff743b",
   "metadata": {},
   "outputs": [
    {
     "data": {
      "text/plain": [
       "{'e', 'h', 'l', 'o'}"
      ]
     },
     "execution_count": 59,
     "metadata": {},
     "output_type": "execute_result"
    }
   ],
   "source": [
    "lst = [1,1,1,1,2,2,2,2,5,5,5,55]\n",
    "lst = [i for i in \"hello\"]\n",
    "set(lst)"
   ]
  }
 ],
 "metadata": {
  "kernelspec": {
   "display_name": "Python 3",
   "language": "python",
   "name": "python3"
  },
  "language_info": {
   "codemirror_mode": {
    "name": "ipython",
    "version": 3
   },
   "file_extension": ".py",
   "mimetype": "text/x-python",
   "name": "python",
   "nbconvert_exporter": "python",
   "pygments_lexer": "ipython3",
   "version": "3.12.1"
  }
 },
 "nbformat": 4,
 "nbformat_minor": 5
}
