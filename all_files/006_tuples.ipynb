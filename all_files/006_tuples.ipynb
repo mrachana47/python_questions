{
 "cells": [
  {
   "cell_type": "code",
   "execution_count": 1,
   "id": "3514fdae",
   "metadata": {},
   "outputs": [],
   "source": [
    "# count(element): Returns the number of times a specified element appears in the tuple.\n",
    "# index(element): Returns the index of the first occurrence of a specified element in the tuple.\n",
    "# len(tuple): Returns the number of elements in the tuple.\n",
    "# tuple(seq): Converts a sequence (e.g., list, string) into a tuple.\n",
    "# max(tuple): Returns the largest element in the tuple.\n",
    "# min(tuple): Returns the smallest element in the tuple.\n",
    "# sorted(tuple): Returns a new list with the elements of the tuple sorted.\n",
    "# sum(tuple): Returns the sum of all elements in the tuple if they are numbers.\n",
    "# any(tuple): Returns True if at least one element in the tuple is True.\n",
    "# all(tuple): Returns True if all elements in the tuple are True.\n",
    "# tuple1 + tuple2: Concatenates two tuples to create a new tuple.\n",
    "# tuple * n: Creates a new tuple with the elements repeated n times.\n",
    "# tuple[start:end]: Slices the tuple to create a new tuple with elements from the start index to the end index (exclusive).\n",
    "# tuple.count(element): Returns the number of times a specified element appears in the tuple.\n",
    "# tuple.index(element): Returns the index of the first occurrence of a specified element in the tuple.\n",
    "# tuple1 == tuple2: Checks if two tuples are equal.\n",
    "# tuple.copy(): Creates a shallow copy of the tuple.\n",
    "# del tuple: Deletes the entire tuple.\n",
    "# iter(tuple): Returns an iterator for the tuple.\n",
    "# tuple.contains(element): Checks if an element is present in the tuple (can also be used with the in operator)."
   ]
  },
  {
   "cell_type": "code",
   "execution_count": 3,
   "id": "764d50f6",
   "metadata": {},
   "outputs": [],
   "source": [
    "fruits = (\"Apple\", \"Orange\", \"Grapes\")"
   ]
  },
  {
   "cell_type": "code",
   "execution_count": 4,
   "id": "205a76cf",
   "metadata": {},
   "outputs": [],
   "source": [
    "# Create an example tuple called fruits containing the names of three different fruits.\n",
    "# How would you access the second element of the fruits tuple?\n",
    "# Add a new fruit, \"Banana,\" to the fruits tuple.\n",
    "# Can you find the index of the fruit \"Apple\" in the fruits tuple?\n",
    "# Check if the fruit \"Mango\" exists in the fruits tuple.\n",
    "\n",
    "# Create another tuple called numbers with three integer values.\n",
    "# Concatenate the fruits and numbers tuples into a new tuple called combined.\n",
    "# Check the length of the combined tuple.\n",
    "# Create a sorted version of the numbers tuple.\n",
    "# Find the maximum value in the numbers tuple.\n",
    "\n",
    "# Delete the numbers tuple.\n",
    "# Create a shallow copy of the fruits tuple and call it fruits_copy.\n",
    "# Check if the fruits and fruits_copy tuples are equal.\n",
    "# Use tuple unpacking to assign the values of the fruits tuple to three variables: fruit1, fruit2, and fruit3.\n",
    "# Check if any element in the fruits tuple contains the letter \"a.\"\n",
    "\n",
    "# Use the * operator to create a new tuple called rest_of_fruits containing the remaining fruits from the fruits tuple after removing the first one.\n",
    "# Check if all elements in the numbers tuple are greater than zero.\n",
    "# Find the index of the last occurrence of \"Banana\" in the fruits tuple.\n",
    "# Clear all items from the fruits tuple.\n",
    "# Explain the difference between a shallow copy and a deep copy of a tuple."
   ]
  },
  {
   "cell_type": "code",
   "execution_count": 5,
   "id": "552fac96",
   "metadata": {},
   "outputs": [],
   "source": [
    "# How can you check if a specific item, let's say \"Banana,\" exists in the fruits tuple?\n",
    "# Is it possible to modify an item within a tuple? If not, explain why.\n",
    "# Can you concatenate two tuples, like fruits and more_fruits, to create a new tuple?\n",
    "# How do you find the index of the last occurrence of a particular item, such as \"Grapes,\" in the fruits tuple?\n",
    "# What happens when you try to delete an entire tuple using the del statement?\n",
    "\n",
    "# Can you create a new tuple by repeating the elements of the fruits tuple three times?\n",
    "# Explain the difference between a one-element tuple and a single value enclosed in parentheses.\n",
    "# How can you count the occurrences of a specific item, for example, \"Orange,\" within the fruits tuple?\n",
    "# Is it possible to use the + operator to add a single element to the fruits tuple?\n",
    "# What happens when you try to sort the fruits tuple using the sorted() function?\n",
    "\n",
    "# How can you create a new tuple by reversing the elements of the fruits tuple?\n",
    "# Can you explain why tuples are often used as keys in dictionaries but lists cannot be used as keys?\n",
    "# What is tuple packing and tuple unpacking, and how are they related to function arguments in Python?\n",
    "# How can you create a shallow copy of the fruits tuple and modify the copied tuple without affecting the original?\n",
    "# Is it possible to convert the fruits tuple into a list? If so, how can it be done?\n",
    "\n",
    "# Explain the concept of tuple immutability and how it differs from lists in Python.\n",
    "# How can you use tuple unpacking to assign the elements of the fruits tuple to multiple variables in a single line?\n",
    "# Can you provide an example of using the zip() function with the fruits tuple and another iterable?\n",
    "# What is tuple slicing, and how can it be used to extract a subset of elements from the fruits tuple?\n",
    "# Describe a situation where using a tuple is more suitable than using a list in Python."
   ]
  },
  {
   "cell_type": "code",
   "execution_count": null,
   "id": "23ff743b",
   "metadata": {},
   "outputs": [],
   "source": []
  }
 ],
 "metadata": {
  "kernelspec": {
   "display_name": "Python 3",
   "language": "python",
   "name": "python3"
  },
  "language_info": {
   "codemirror_mode": {
    "name": "ipython",
    "version": 3
   },
   "file_extension": ".py",
   "mimetype": "text/x-python",
   "name": "python",
   "nbconvert_exporter": "python",
   "pygments_lexer": "ipython3",
   "version": "3.8.3"
  }
 },
 "nbformat": 4,
 "nbformat_minor": 5
}
