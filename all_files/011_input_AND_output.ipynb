{
 "cells": [
  {
   "cell_type": "code",
   "execution_count": 3,
   "id": "aa36da45",
   "metadata": {},
   "outputs": [],
   "source": [
    "# ----------- input\n",
    "\n",
    "# How do you take user input as a string in Python?\n",
    "#ANS: using input()\n",
    "\n",
    "# To take an integer input from the user, which function should you use?\n",
    "#ANS: int(input())\n",
    "\n",
    "# What is the difference between using input() and raw_input() in Python 2? #study\n",
    "#ANS: \n",
    "\n",
    "# How can you prompt the user for input and provide a message at the same time?\n",
    "#ANS:input(\"Enter your name\")\n",
    "\n",
    "# When taking multiple inputs on a single line, how do you split and store them in different variables?\n",
    "#ANS: a,b = 2,3 #study, try to take a and b i/p's from user\n",
    "\n",
    "# What function can you use to convert a string input to a floating-point number?\n",
    "#ANS: float(input(\"Enter number in decimal format\"))\n",
    "\n",
    "# How do you handle input errors, such as when the user enters non-numeric data for an integer input?\n",
    "#ANS: int(input(\"Enter the integer\"))  #study\n",
    "\n",
    "# Can you take a single character as input from the user in Python?  #study\n",
    "#ANS:\n",
    "\n",
    "# What is the purpose of the strip() function when processing user input?  #study\n",
    "#ANS:\n",
    "\n",
    "# How do you handle user input with specific constraints, such as ensuring the input is within a certain range?  #study\n",
    "#ANS:\n"
   ]
  },
  {
   "cell_type": "code",
   "execution_count": 4,
   "id": "3eca166f",
   "metadata": {},
   "outputs": [
    {
     "ename": "ValueError",
     "evalue": "invalid literal for int() with base 10: 'jh'",
     "output_type": "error",
     "traceback": [
      "\u001b[0;31m---------------------------------------------------------------------------\u001b[0m",
      "\u001b[0;31mValueError\u001b[0m                                Traceback (most recent call last)",
      "Cell \u001b[0;32mIn[4], line 1\u001b[0m\n\u001b[0;32m----> 1\u001b[0m \u001b[38;5;28;01mwhile\u001b[39;00m \u001b[38;5;28mtype\u001b[39m(\u001b[38;5;28;43mint\u001b[39;49m\u001b[43m(\u001b[49m\u001b[38;5;28;43minput\u001b[39;49m\u001b[43m(\u001b[49m\u001b[38;5;124;43m\"\u001b[39;49m\u001b[38;5;124;43mEnter the integer\u001b[39;49m\u001b[38;5;124;43m\"\u001b[39;49m\u001b[43m)\u001b[49m\u001b[43m)\u001b[49m) \u001b[38;5;241m!=\u001b[39m \u001b[38;5;28mint\u001b[39m:\n\u001b[1;32m      2\u001b[0m     \u001b[38;5;28;01mbreak\u001b[39;00m\n",
      "\u001b[0;31mValueError\u001b[0m: invalid literal for int() with base 10: 'jh'"
     ]
    }
   ],
   "source": [
    "while type(int(input(\"Enter the integer\"))) != int:\n",
    "    break"
   ]
  },
  {
   "cell_type": "code",
   "execution_count": 5,
   "id": "caeba54e",
   "metadata": {},
   "outputs": [],
   "source": [
    "# ----------- output\n",
    "\n",
    "# How do you display text output in Python?\n",
    "# print()\n",
    "\n",
    "# What function is used to print multiple values separated by spaces?\n",
    "# print(a1,\" \",a2,\" \")\n",
    "\n",
    "# How can you print output without moving to a new line in Python?\n",
    "# using end parameter in the print(variable, end = \" \")\n",
    "\n",
    "# What is the purpose of the end parameter in the print() function?\n",
    "# for not letting the control to move to new line \n",
    "\n",
    "# How do you format output using f-strings in Python? \n",
    "# print(f'Hello Good Morning, Your score is {10}')\n",
    "\n",
    "# What is the difference between using single quotes and double quotes for string literals in print statements?\n",
    "# ANS: we can use single or double quotes for string literals, but if there are any single quotes within the string \n",
    "# that need to be enclosed with double quotes. The above requirment is not mandatory, string can also be used enclosed within \n",
    "# single quotes by escaping single quote within the string.\n",
    "\n",
    "# How can you print the value of a variable along with a descriptive message?\n",
    "# ANS: print(variable_value,\" Message\")\n",
    "\n",
    "# How do you redirect the standard output to a file in Python? #study\n",
    "\n",
    "\n",
    "# What does the flush parameter in the print() function do? #study\n",
    "\n",
    "\n",
    "# Can you use escape sequences to format the appearance of output text in Python?\n",
    "#ANS: using \\(backslash), the characters in the string can be escaped.\n",
    "#Ex:  print(f'Hello Good Morning, It\\'s better to drive early')\n",
    "#O/P: Hello Good Morning, It's better to drive early\n",
    "\n",
    "#Using R string, characters can't be escaped\n",
    "#Ex:  print(R'Hello Good Morning, It\\'s better to drive early')\n",
    "#O/P: Hello Good Morning, It\\'s better to drive early\n",
    "\n"
   ]
  },
  {
   "cell_type": "code",
   "execution_count": 5,
   "id": "8c721e32",
   "metadata": {},
   "outputs": [
    {
     "name": "stdout",
     "output_type": "stream",
     "text": [
      "10   20  \n"
     ]
    }
   ],
   "source": [
    "a1 = 10\n",
    "a2 = 20\n",
    "print(a1,\" \",a2,\" \")"
   ]
  },
  {
   "cell_type": "code",
   "execution_count": 3,
   "id": "3eb69d90",
   "metadata": {},
   "outputs": [
    {
     "name": "stdout",
     "output_type": "stream",
     "text": [
      "Hello Good Morning, It's better to drive early\n"
     ]
    }
   ],
   "source": [
    "print(f'Hello Good Morning, It\\'s better to drive early')"
   ]
  }
 ],
 "metadata": {
  "kernelspec": {
   "display_name": "Python 3",
   "language": "python",
   "name": "python3"
  },
  "language_info": {
   "codemirror_mode": {
    "name": "ipython",
    "version": 3
   },
   "file_extension": ".py",
   "mimetype": "text/x-python",
   "name": "python",
   "nbconvert_exporter": "python",
   "pygments_lexer": "ipython3",
   "version": "3.12.1"
  }
 },
 "nbformat": 4,
 "nbformat_minor": 5
}
