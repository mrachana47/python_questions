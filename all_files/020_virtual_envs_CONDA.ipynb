{
 "cells": [
  {
   "cell_type": "code",
   "execution_count": null,
   "id": "13e7900e",
   "metadata": {},
   "outputs": [],
   "source": [
    "# What is Conda and how is it different from Python's built-in venv?\n",
    "# Discuss the unique features and capabilities of Conda compared to standard Python virtual environments.\n",
    "\n",
    "# How do you create a new virtual environment with Conda?\n",
    "# Describe the command or process for initializing a new environment using Conda.\n",
    "\n",
    "# How can you manage Python versions within Conda environments?\n",
    "# Explain how to specify or change the Python version in a Conda environment.\n",
    "\n",
    "# What is the purpose of the .condarc configuration file in Conda?\n",
    "# Discuss how this file is used to configure Conda behavior.\n",
    "\n",
    "# How do you activate and deactivate a Conda environment?\n",
    "# Provide the commands and explain what happens when you activate or deactivate a Conda environment.\n",
    "\n",
    "# How can Conda be used to manage dependencies for different projects?\n",
    "# Explain the process of managing separate sets of dependencies for distinct projects using Conda.\n",
    "\n",
    "# What is the difference between conda install and pip install when used within a Conda environment?\n",
    "# Discuss how these two package installation commands differ, especially in the context of a Conda environment.\n",
    "\n",
    "# How do you clone an existing Conda environment?\n",
    "# Describe the steps or command to create an exact copy of an existing Conda environment.\n",
    "\n",
    "# How can you export and import Conda environments?\n",
    "# Explain the process of exporting an environment to a file and recreating it on another machine.\n",
    "\n",
    "# What are Conda channels and how do they affect package installation?\n",
    "# Discuss the concept of channels in Conda and how they influence where packages are sourced from."
   ]
  }
 ],
 "metadata": {
  "kernelspec": {
   "display_name": "Python 3",
   "language": "python",
   "name": "python3"
  },
  "language_info": {
   "codemirror_mode": {
    "name": "ipython",
    "version": 3
   },
   "file_extension": ".py",
   "mimetype": "text/x-python",
   "name": "python",
   "nbconvert_exporter": "python",
   "pygments_lexer": "ipython3",
   "version": "3.8.3"
  }
 },
 "nbformat": 4,
 "nbformat_minor": 5
}
