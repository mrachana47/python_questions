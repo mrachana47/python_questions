{
 "cells": [
  {
   "cell_type": "code",
   "execution_count": 1,
   "id": "f59ccfc6",
   "metadata": {},
   "outputs": [
    {
     "name": "stdout",
     "output_type": "stream",
     "text": [
      "Hello Rachana\n",
      "Hello Rachana\n"
     ]
    },
    {
     "ename": "NameError",
     "evalue": "name 'inner_function' is not defined",
     "output_type": "error",
     "traceback": [
      "\u001b[0;31m---------------------------------------------------------------------------\u001b[0m",
      "\u001b[0;31mNameError\u001b[0m                                 Traceback (most recent call last)",
      "Cell \u001b[0;32mIn[1], line 74\u001b[0m\n\u001b[1;32m     72\u001b[0m \u001b[38;5;28;01mdef\u001b[39;00m \u001b[38;5;21mfunc_name\u001b[39m():\n\u001b[1;32m     73\u001b[0m     \u001b[38;5;28;01mreturn\u001b[39;00m\n\u001b[0;32m---> 74\u001b[0m func_name(\u001b[43minner_function\u001b[49m())\n\u001b[1;32m     76\u001b[0m \u001b[38;5;28;01mdef\u001b[39;00m \u001b[38;5;21minner_function\u001b[39m():\n\u001b[1;32m     77\u001b[0m     \u001b[38;5;28;01mreturn\u001b[39;00m\n",
      "\u001b[0;31mNameError\u001b[0m: name 'inner_function' is not defined"
     ]
    }
   ],
   "source": [
    "# What is a function in Python? Describe the basic concept of a function and its purpose in Python.\n",
    "#Ans: In the need of reusing the code agian and again, that code can be placed in the block of function which can be called when need\n",
    "\n",
    "# How do you define a function in Python? Provide the syntax for defining a function.\n",
    "def fun_name():\n",
    "    print(\"Hello,\")\n",
    "\n",
    "# What is the difference between a function definition and a function call? Explain how these two aspects of a function are different.\n",
    "#Ans:function definition: here we define the fucntion by adding the code in it\n",
    "#function call: To make use of the lines of code, we will call a function\n",
    "\n",
    "# What are parameters in a Python function? Describe what parameters are and how they are used in function definitions.\n",
    "#Ans: function parameters are passed from a function call, which can be used for any sort of updations in the code\n",
    "\n",
    "# What is a return statement in a function? Explain the purpose of the return statement and how it works.\n",
    "#Ans: The return statement returns the value of updations done in the code of function definition\n",
    "def fun_name(name):\n",
    "\n",
    "    return \"Hello \" + name\n",
    "\n",
    "print(fun_name(\"Rachana\"))\n",
    "\n",
    "\n",
    "# What is the scope of a variable in a function? Discuss the concept of variable scope and how it applies to functions.\n",
    "#Ans: scope of a variable is the area of the code in which the variable can be accessed, There are 2 types: local and global.\n",
    "# variable declared within the function is local to the scope and and outside the function is global\n",
    "\n",
    "\n",
    "# Can you have multiple return statements in a function? Explain whether a function can have more than one return statement and the implications.\n",
    "#Ans: yes a function can have multiple return statements. Whichever condition satisfies first and returns the value/expression then the code gets exited \n",
    "\n",
    "\n",
    "# What is a docstring, and why is it useful in functions? Describe the role of docstrings in documenting functions.\n",
    "\n",
    "\n",
    "\n",
    "# What are default arguments in Python functions? Explain how you can define default values for function parameters.\n",
    "\n",
    "\n",
    "\n",
    "# How do you call a function in Python? Provide an example of calling a function.\n",
    "\n",
    "print(fun_name(\"Rachana\"))\n",
    "\n",
    "\n",
    "# What is a recursive function? Explain the concept of recursion and provide an example of a recursive function.\n",
    "#Ans: A function which can be called within the function itself is called recursive function # study\n",
    "#Example:\n",
    "\n",
    "\n",
    "# What are lambda functions (anonymous functions)? Describe lambda functions and when they are commonly used.\n",
    "\n",
    "\n",
    "\n",
    "# Can functions have global variables? Discuss whether functions can access and modify global variables.\n",
    "#Ans: yes functions can have global variables, A global variable can be accessed within the function and but can't be modified asusual.\n",
    "#The variable need to be declared as global, inorder to modify the value\n",
    "\n",
    "# What is variable-length argument passing in Python functions? Explain the use of *args and **kwargs for variable-length argument passing.\n",
    "\n",
    "\n",
    "\n",
    "# What is a decorator in Python functions? Describe decorators and their role in modifying the behavior of functions.\n",
    "\n",
    "\n",
    "\n",
    "# What is the difference between a function and a method in Python? Explain the distinction between functions and methods.\n",
    "#Ans: Mostly functions could be user-defined and methods are in-built one's\n",
    "\n",
    "\n",
    "# How do you pass functions as arguments to other functions? Describe the concept of higher-order functions. #study\n",
    "def func_name():\n",
    "    return\n",
    "func_name(inner_function())\n",
    "\n",
    "def inner_function():\n",
    "    return\n",
    "\n",
    "# What is function overloading in Python? Discuss whether Python supports function overloading.\n",
    "\n",
    "\n",
    "# What is a generator function? Explain the purpose of generator functions and how they differ from regular functions.\n",
    "\n",
    "\n",
    "# What are built-in functions in Python? Provide examples of some commonly used built-in functions in Python.\n",
    "len(),sum(),max(),min(),"
   ]
  },
  {
   "cell_type": "code",
   "execution_count": null,
   "id": "7ddfe5b5",
   "metadata": {},
   "outputs": [],
   "source": []
  }
 ],
 "metadata": {
  "kernelspec": {
   "display_name": "Python 3",
   "language": "python",
   "name": "python3"
  },
  "language_info": {
   "codemirror_mode": {
    "name": "ipython",
    "version": 3
   },
   "file_extension": ".py",
   "mimetype": "text/x-python",
   "name": "python",
   "nbconvert_exporter": "python",
   "pygments_lexer": "ipython3",
   "version": "3.12.1"
  }
 },
 "nbformat": 4,
 "nbformat_minor": 5
}
