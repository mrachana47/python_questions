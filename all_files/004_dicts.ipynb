{
 "cells": [
  {
   "cell_type": "code",
   "execution_count": 1,
   "id": "715c1417",
   "metadata": {},
   "outputs": [],
   "source": [
    "# clear(): Removes all items from the dictionary.\n",
    "# copy(): Returns a shallow copy of the dictionary.\n",
    "# get(key, default): Returns the value associated with a key or a default value if the key is not found.\n",
    "# items(): Returns a list of key-value pairs (tuples) as dictionary items.\n",
    "# keys(): Returns a list of all keys in the dictionary.\n",
    "# values(): Returns a list of all values in the dictionary.\n",
    "# pop(key, default): Removes and returns the value associated with a key or a default value if the key is not found.\n",
    "# popitem(): Removes and returns an arbitrary (key, value) pair from the dictionary.\n",
    "# setdefault(key, default): Returns the value associated with a key, or inserts the key with a default value if not found.\n",
    "# update(dict2): Updates the dictionary with key-value pairs from another dictionary or iterable.\n",
    "# fromkeys(seq, value): Creates a new dictionary with keys from a sequence and a default value. #study\n",
    "# len(): Returns the number of items (key-value pairs) in the dictionary.\n",
    "# clear(): Removes all items from the dictionary.\n",
    "# copy(): Returns a shallow copy of the dictionary.\n",
    "# get(key, default): Returns the value associated with a key or a default value if the key is not found.\n",
    "# items(): Returns a list of key-value pairs (tuples) as dictionary items.\n",
    "# keys(): Returns a list of all keys in the dictionary.\n",
    "# values(): Returns a list of all values in the dictionary.\n"
   ]
  },
  {
   "cell_type": "code",
   "execution_count": 14,
   "id": "d40ca8b5",
   "metadata": {},
   "outputs": [],
   "source": [
    "my_dict = {\n",
    "    'name': 'John',\n",
    "    'age': 30,\n",
    "    'city': 'New York',\n",
    "    'country': 'USA'\n",
    "}\n"
   ]
  },
  {
   "cell_type": "code",
   "execution_count": 21,
   "id": "bf3a3030",
   "metadata": {},
   "outputs": [
    {
     "name": "stdout",
     "output_type": "stream",
     "text": [
      "{'name': 'John', 'age': 30, 'city': 'New York', 'country': 'USA', 'occupation': 'engineer'}\n",
      "{'name': 'John', 'age': 30, 'city': 'New York', 'country': 'USA'}\n",
      "{'name': 'John', 'age': 30, 'city': 'New York', 'country': 'USA', 'occupation': 'engineer'}\n",
      "Key 'age' exists\n"
     ]
    },
    {
     "data": {
      "text/plain": [
       "dict_values(['John', 30, 'New York', 'USA', 'engineer'])"
      ]
     },
     "execution_count": 21,
     "metadata": {},
     "output_type": "execute_result"
    }
   ],
   "source": [
    "# How can you retrieve the value associated with the key 'name' from the dictionary?\n",
    "my_dict['name']\n",
    "\n",
    "# What method can you use to get a list of all keys in the dictionary?\n",
    "my_dict.keys()\n",
    "\n",
    "# If you want to add a new key 'occupation' with the value 'engineer' to the dictionary, which method would you use?\n",
    "my_dict['occupation'] = \"engineer\"\n",
    "print(my_dict)\n",
    "\n",
    "my_dict.pop('occupation',)\n",
    "print(my_dict)\n",
    "\n",
    "my_dict.setdefault('occupation', \"engineer\")\n",
    "print(my_dict)\n",
    "\n",
    "# How can you check if the key 'age' exists in the dictionary?\n",
    "for i in my_dict.keys():\n",
    "    if i == 'age':\n",
    "        print(\"Key 'age' exists\")\n",
    "\n",
    "# What method would you use to retrieve a list of all values in the dictionary?\n",
    "my_dict.values()"
   ]
  },
  {
   "cell_type": "code",
   "execution_count": 29,
   "id": "be46323d",
   "metadata": {},
   "outputs": [
    {
     "name": "stdout",
     "output_type": "stream",
     "text": [
      "{'name': 'John', 'age': 30, 'a': 1, 'b': 2, 'c': 3}\n"
     ]
    }
   ],
   "source": [
    "# If you want to remove the key 'city' and its associated value from the dictionary, which method would you use?\n",
    "my_dict.pop('city',None) # removes specified key\n",
    "my_dict.popitem() # removes last item in the dictionary\n",
    "\n",
    "# How can you update the dictionary with key-value pairs from another dictionary called 'other_dict'?\n",
    "other_dict = {'a':1,'b':2,'c':3}\n",
    "my_dict.update(other_dict)\n",
    "print(my_dict)\n",
    "\n",
    "# What method can you use to get a list of all key-value pairs (tuples) in the dictionary?\n",
    "my_dict.items()\n",
    "\n",
    "# If you want to remove the last (key, value) pair from the dictionary, which method would you use?\n",
    "my_dict.popitem()\n",
    "\n",
    "# How can you clear all items from the dictionary?\n",
    "my_dict.clear()\n"
   ]
  },
  {
   "cell_type": "code",
   "execution_count": 36,
   "id": "72c735da",
   "metadata": {},
   "outputs": [
    {
     "name": "stdout",
     "output_type": "stream",
     "text": [
      "Key 'city' exists\n"
     ]
    },
    {
     "data": {
      "text/plain": [
       "dict_values(['John', 30, 'New York', 'USA', 'male'])"
      ]
     },
     "execution_count": 36,
     "metadata": {},
     "output_type": "execute_result"
    }
   ],
   "source": [
    "my_dict = {\n",
    "    'name': 'John',\n",
    "    'age': 30,\n",
    "    'city': 'New York',\n",
    "    'country': 'USA'\n",
    "}\n",
    "\n",
    "# How do you retrieve the value associated with the key 'age' from a dictionary?\n",
    "my_dict['age']\n",
    "\n",
    "# What method can you use to get a list of all keys in a dictionary?\n",
    "my_dict.keys()\n",
    "\n",
    "# If you want to add a new key 'gender' with the value 'male' to the dictionary, which method would you use?\n",
    "my_dict.setdefault('gender', 'male')\n",
    "\n",
    "# How can you check if the key 'city' exists in a dictionary?\n",
    "for i in my_dict.keys():\n",
    "    if i == 'city':\n",
    "        print(\"Key 'city' exists\")\n",
    "\n",
    "# What method would you use to retrieve a list of all values in a dictionary?\n",
    "my_dict.values()\n",
    "\n"
   ]
  },
  {
   "cell_type": "code",
   "execution_count": 42,
   "id": "e3945214",
   "metadata": {},
   "outputs": [],
   "source": [
    "# If you want to remove the key 'country' and its associated value from the dictionary, which method would you use?\n",
    "my_dict.pop('country',None)\n",
    "\n",
    "# How can you update the dictionary with key-value pairs from another dictionary called 'other_dict'?\n",
    "my_dict.update(other_dict)\n",
    "\n",
    "# What method can you use to get a list of all key-value pairs (tuples) in a dictionary?\n",
    "my_dict.items()\n",
    "\n",
    "# If you want to remove the last (key, value) pair from the dictionary, which method would you use?\n",
    "my_dict.popitem()\n",
    "\n",
    "# How can you clear all items from the dictionary?\n",
    "my_dict.clear()\n"
   ]
  },
  {
   "cell_type": "code",
   "execution_count": 50,
   "id": "bf6a95dd",
   "metadata": {},
   "outputs": [
    {
     "name": "stdout",
     "output_type": "stream",
     "text": [
      "{'name': 'John', 'age': 30, 'city': 'New York', 'country': 'USA', 'name1': None}\n"
     ]
    },
    {
     "data": {
      "text/plain": [
       "'John'"
      ]
     },
     "execution_count": 50,
     "metadata": {},
     "output_type": "execute_result"
    }
   ],
   "source": [
    "my_dict = {\n",
    "    'name': 'John',\n",
    "    'age': 30,\n",
    "    'city': 'New York',\n",
    "    'country': 'USA'\n",
    "}\n",
    "\n",
    "# What method can you use to retrieve the value associated with a key, and if it doesn't exist, provide a default value?\n",
    "my_dict.setdefault('name1')\n",
    "print(my_dict)\n",
    "\n",
    "# How do you remove and return an arbitrary (key, value) pair from the dictionary?\n",
    "my_dict.popitem()\n",
    "\n",
    "# What method can you use to pop an item with a specific key from the dictionary and return its value?\n",
    "#my_dict.pop('key_name')\n",
    "\n",
    "# How do you create a shallow copy of a dictionary using a method that starts with 'copy'?\n",
    "my_dict.copy()\n",
    "\n",
    "# What method can you use to retrieve the value associated with the key 'name' and remove it from the dictionary?\n",
    "my_dict.pop('name')\n"
   ]
  },
  {
   "cell_type": "code",
   "execution_count": 54,
   "id": "aec04224",
   "metadata": {},
   "outputs": [
    {
     "name": "stdout",
     "output_type": "stream",
     "text": [
      "{'age': 30, 'city': 'New York', 'country': 'USA', 'email': None}\n"
     ]
    },
    {
     "ename": "TypeError",
     "evalue": "'builtin_function_or_method' object is not iterable",
     "output_type": "error",
     "traceback": [
      "\u001b[0;31m---------------------------------------------------------------------------\u001b[0m",
      "\u001b[0;31mTypeError\u001b[0m                                 Traceback (most recent call last)",
      "Cell \u001b[0;32mIn[54], line 14\u001b[0m\n\u001b[1;32m     11\u001b[0m dict1\u001b[38;5;241m.\u001b[39mupdate(dict2)\n\u001b[1;32m     13\u001b[0m \u001b[38;5;66;03m# What method can you use to create a dictionary from a sequence of key-value pairs stored as tuples in a list?\u001b[39;00m\n\u001b[0;32m---> 14\u001b[0m \u001b[43mdict1\u001b[49m\u001b[38;5;241;43m.\u001b[39;49m\u001b[43mfromkeys\u001b[49m\u001b[43m(\u001b[49m\u001b[43mmy_dict\u001b[49m\u001b[38;5;241;43m.\u001b[39;49m\u001b[43mkeys\u001b[49m\u001b[43m)\u001b[49m\n\u001b[1;32m     16\u001b[0m \u001b[38;5;66;03m# If you want to remove the item with the maximum key in the dictionary, which method would you use?\u001b[39;00m\n\u001b[1;32m     17\u001b[0m \u001b[38;5;66;03m#1. find maximum key in the dictionary keys\u001b[39;00m\n\u001b[1;32m     18\u001b[0m \u001b[38;5;66;03m#2. use pop(max_key)\u001b[39;00m\n",
      "\u001b[0;31mTypeError\u001b[0m: 'builtin_function_or_method' object is not iterable"
     ]
    }
   ],
   "source": [
    "# How can you set a default value of 'None' for a missing key 'email' in the dictionary using a method?\n",
    "my_dict.setdefault('email')\n",
    "print(my_dict)\n",
    "\n",
    "# What method allows you to retrieve a value based on a key, and if it doesn't exist, create a new key with a default value?\n",
    "#sol: get('key_name')\n",
    "\n",
    "# How can you merge two dictionaries, 'dict1' and 'dict2', into a new dictionary using a method that starts with 'update'?\n",
    "dict1 = {}\n",
    "dict2 = {}\n",
    "dict1.update(dict2)\n",
    "\n",
    "# What method can you use to create a dictionary from a sequence of key-value pairs stored as tuples in a list?\n",
    "dict1.fromkeys(my_dict.keys) #study how to use fromkeys()\n",
    "\n",
    "# If you want to remove the item with the maximum key in the dictionary, which method would you use?\n",
    "#1. find maximum key in the dictionary keys #study how to find maximum key\n",
    "#2. use pop(max_key)\n"
   ]
  },
  {
   "cell_type": "code",
   "execution_count": 13,
   "id": "b8aa4fa6",
   "metadata": {},
   "outputs": [],
   "source": [
    "# --------COUNTER and COLLECTIONS\n",
    "\n",
    "# What is the purpose of the Counter class in Python?\n",
    "# How do you import the Counter class from the collections module?\n",
    "# How can you create a Counter object to count the occurrences of items in a list?\n",
    "# What method can you use to retrieve the count of a specific item in a Counter object?\n",
    "# If you have a list of numbers and want to find the most common number, how would you use the Counter class to do that?\n",
    "# How can you convert a string into a Counter object to count the occurrences of characters in the string?\n",
    "# What method would you use to get a list of the most common items and their counts in a Counter object?\n",
    "# If you have two Counter objects, how do you combine them to get the sum of counts for each item?\n",
    "# How can you subtract one Counter object from another to find the difference in counts?\n",
    "# What is the purpose of using the elements() method of a Counter object?\n",
    "# If you want to find the total number of items in a Counter object, which method should you use?\n",
    "# How can you create a Counter object from a dictionary, where keys are items, and values are counts?\n",
    "# What is the difference between the update() method and the subtract() method when working with Counter objects?\n",
    "# How can you find the intersection of two Counter objects to get counts for common items?\n",
    "# If you want to remove items with a count of zero or negative from a Counter object, which method should you use?\n",
    "# What is the purpose of using the most_common() method of a Counter object?\n",
    "# How can you find the least common items in a Counter object?\n",
    "# What method allows you to clear all counts in a Counter object?\n",
    "# If you want to add items to an existing Counter object, how do you do that using a method?\n",
    "# What is the time complexity of common operations like addition, subtraction, and intersection with Counter objects?"
   ]
  },
  {
   "cell_type": "code",
   "execution_count": null,
   "id": "c7c373f1",
   "metadata": {},
   "outputs": [],
   "source": []
  }
 ],
 "metadata": {
  "kernelspec": {
   "display_name": "Python 3",
   "language": "python",
   "name": "python3"
  },
  "language_info": {
   "codemirror_mode": {
    "name": "ipython",
    "version": 3
   },
   "file_extension": ".py",
   "mimetype": "text/x-python",
   "name": "python",
   "nbconvert_exporter": "python",
   "pygments_lexer": "ipython3",
   "version": "3.12.1"
  }
 },
 "nbformat": 4,
 "nbformat_minor": 5
}
