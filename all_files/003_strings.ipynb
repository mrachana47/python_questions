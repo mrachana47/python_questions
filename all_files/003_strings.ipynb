{
 "cells": [
  {
   "cell_type": "code",
   "execution_count": 15,
   "id": "ea9ac96a",
   "metadata": {},
   "outputs": [],
   "source": [
    "# len(string): Returns the length (number of characters) of the string.\n",
    "# string.upper(): Converts all characters in the string to uppercase.\n",
    "# string.lower(): Converts all characters in the string to lowercase.\n",
    "# string.capitalize(): Capitalizes the first character of the string.\n",
    "# string.title(): Converts the string to title case where the first letter of each word is capitalized.\n",
    "\n",
    "# string.strip(): Removes leading and trailing whitespace characters from the string.\n",
    "# string.startswith(prefix): Returns True if the string starts with the specified prefix.\n",
    "# string.endswith(suffix): Returns True if the string ends with the specified suffix.\n",
    "# string.replace(old, new): Replaces all occurrences of the old substring with the new substring.\n",
    "# string.split(separator): Splits the string into a list of substrings based on the separator.\n",
    "\n",
    "# string.join(iterable): Joins a list of strings into one string using the original string as a separator.\n",
    "# string.find(substring): Returns the index of the first occurrence of a substring in the string.\n",
    "# string.rfind(substring): Returns the index of the last occurrence of a substring in the string.\n",
    "# string.isalpha(): Returns True if all characters in the string are alphabetic.\n",
    "# string.isdigit(): Returns True if all characters in the string are digits.\n",
    "\n",
    "# string.isalnum(): Returns True if all characters in the string are alphanumeric.\n",
    "# string.islower(): Returns True if all characters in the string are lowercase.\n",
    "# string.isupper(): Returns True if all characters in the string are uppercase.\n",
    "# string.isnumeric(): Returns True if all characters in the string are numeric.\n",
    "# string.count(substring): Returns the number of non-overlapping occurrences of a substring in the string."
   ]
  },
  {
   "cell_type": "code",
   "execution_count": 3,
   "id": "7157c18c",
   "metadata": {},
   "outputs": [
    {
     "name": "stdout",
     "output_type": "stream",
     "text": [
      "is_alphanumeric: True\n",
      "World11111\n"
     ]
    }
   ],
   "source": [
    "# Define the strings\n",
    "this_string = \"Hello, World!\"\n",
    "another_string = \"Python Programming\"\n",
    "\n",
    "# 1. lower()\n",
    "lower_case = this_string.lower()\n",
    "# Result: \"hello, world!\"\n",
    "\n",
    "# 2. upper()\n",
    "upper_case = this_string.upper()\n",
    "# Result: \"HELLO, WORLD!\"\n",
    "\n",
    "# 3. startswith(prefix)\n",
    "starts_with_hello = this_string.startswith(\"Hello\")\n",
    "# Result: True\n",
    "\n",
    "# 4. find(substring)\n",
    "position_of_o = this_string.find(\"o\")\n",
    "# Result: 4\n",
    "\n",
    "# 5. replace(old, new)\n",
    "replaced_string = this_string.replace(\"Hello\", \"Hi\")\n",
    "# Result: \"Hi, World!\"\n",
    "\n",
    "# 6. strip()\n",
    "stripped_string = \"   Hello, World!   \".strip()\n",
    "# Result: \"Hello, World!\"\n",
    "\n",
    "# 7. split(separator)\n",
    "split_string = this_string.split(\",\")\n",
    "# Result: ['Hello', ' World!']\n",
    "\n",
    "# 8. join(iterable)\n",
    "joined_string = ' '.join([\"Hello\", \"World!\"])\n",
    "# Result: \"Hello World!\"\n",
    "\n",
    "# 9. isalnum()\n",
    "is_alphanumeric = \"Hello123\".isalnum()\n",
    "print(\"is_alphanumeric:\", is_alphanumeric)\n",
    "# Result: True\n",
    "\n",
    "# 10. count(substring)\n",
    "count_of_l = this_string.count(\"l\")\n",
    "# Result: 3\n",
    "\n",
    "# 11. endswith(suffix)\n",
    "ends_with_world = this_string.endswith(\"World!\")\n",
    "# Result: True\n",
    "\n",
    "# 12. capitalize()\n",
    "capitalized_string = another_string.capitalize()\n",
    "# Result: \"Python programming\"\n",
    "\n",
    "# 13. isdigit()\n",
    "is_digit = \"12345\".isdigit()\n",
    "# Result: True\n",
    "\n",
    "# 14. isidentifier()\n",
    "is_identifier = \"my_var\".isidentifier()\n",
    "# Result: True\n",
    "\n",
    "# 15. swapcase()\n",
    "swapped_case = another_string.swapcase()\n",
    "# Result: \"pYTHON pROGRAMMING\"\n",
    "\n",
    "# # 16. startswith(prefix1, prefix2, ...)\n",
    "starts_with_py_or_java = another_string.startswith(\"Py\")\n",
    "# # Result: True\n",
    "\n",
    "# 17. isprintable()\n",
    "is_printable = this_string.isprintable()\n",
    "# Result: True\n",
    "\n",
    "# 18. index(substring)\n",
    "index_of_o = this_string.index(\"o\")\n",
    "# Result: 4\n",
    "\n",
    "# 19. rjust(width)\n",
    "right_justified = \"Hello\".rjust(10, \"-\")\n",
    "# Result: \"-----Hello\"\n",
    "\n",
    "# 20. ljust(width)\n",
    "left_justified = \"World\".ljust(10, '1')\n",
    "print(left_justified)\n",
    "\n",
    "# 21. zfill(width)\n",
    "zero_filled = \"42\".zfill(5)\n",
    "# Result: \"00042\"\n"
   ]
  },
  {
   "cell_type": "code",
   "execution_count": 4,
   "id": "a881729d",
   "metadata": {},
   "outputs": [
    {
     "name": "stdout",
     "output_type": "stream",
     "text": [
      "hello, world!\n",
      "['Hello', ' World!']\n"
     ]
    },
    {
     "data": {
      "text/plain": [
       "True"
      ]
     },
     "execution_count": 4,
     "metadata": {},
     "output_type": "execute_result"
    }
   ],
   "source": [
    "# ------------------------ Questions on string 1\n",
    "this_string = \"Hello, World!\"\n",
    "\n",
    "\n",
    "# How can you convert \"Hello, World!\" to all lowercase characters?\n",
    "print(this_string.lower())\n",
    "\n",
    "# What method would you use to check if String 1 starts with \"Hello\"?\n",
    "this_string.startswith(\"Hello\")\n",
    "\n",
    "# How do you find the index of the first occurrence of \"o\" in String 1?\n",
    "this_string.index('o')\n",
    "this_string.find('o')\n",
    "\n",
    "# What is the result of replacing \"Hello\" with \"Hi\" in String 1?\n",
    "this_string.replace(\"Hello\",\"Hi\")\n",
    "\n",
    "# How can you remove leading and trailing whitespace characters from String 1?\n",
    "another_string = \" Hello, World! \"\n",
    "another_string.strip()\n",
    "\n",
    "# What is the output of splitting String 1 by \",\"?\n",
    "#result: [\"Hello\",\"World!\"] \n",
    "print(this_string.split(\",\")) #['Hello', ' World!']\n",
    "\n",
    "# How would you join the list [\"Hello\", \"World!\"] into a single string using a space as a separator?\n",
    "' '.join([\"Hello\", \"World!\"])\n",
    "\n",
    "# How do you check if String 1 contains only alphanumeric characters?\n",
    "this_string.isalnum() #False\n",
    "\n",
    "# What is the count of \"l\" characters in String 1?\n",
    "this_string.count('l')\n",
    "\n",
    "# Is String 1 ending with an exclamation mark?\n",
    "this_string.endswith('!')\n"
   ]
  },
  {
   "cell_type": "code",
   "execution_count": 5,
   "id": "83311613",
   "metadata": {},
   "outputs": [
    {
     "name": "stdout",
     "output_type": "stream",
     "text": [
      "Python Programming\n"
     ]
    },
    {
     "data": {
      "text/plain": [
       "'python code procodeming'"
      ]
     },
     "execution_count": 5,
     "metadata": {},
     "output_type": "execute_result"
    }
   ],
   "source": [
    "# ------------------------ Questions on string 2\n",
    "another_string = \"python programming\"\n",
    "\n",
    "# How can you capitalize the first letter of each word in String 2?\n",
    "another_string.capitalize() # returns 'Python programming', but it isn't what we wanted\n",
    "lst = another_string.split(' ')\n",
    "other_list = []\n",
    "for i in lst:\n",
    "    other_list.append(i.capitalize())\n",
    "\n",
    "print(' '.join(other_list))\n",
    "\n",
    "\n",
    "# What method allows you to check if String 2 contains only digits?\n",
    "another_string.isdigit()\n",
    "\n",
    "# How would you verify if String 2 is a valid identifier (variable name) in Python?\n",
    "another_string.isidentifier()\n",
    "\n",
    "# What is the result of replacing \"Python\" with \"Java\" in String 2?\n",
    "another_string.replace(\"python\", \"Java\") #case sensitive\n",
    "\n",
    "# How can you check if String 2 consists of only whitespace characters? #study\n",
    "\n",
    "\n",
    "# What method is used to swap the case of characters in String 2?\n",
    "\"Python Programming\".swapcase()\n",
    "\n",
    "# How do you determine if String 2 starts with any of the prefixes \"Py\" or \"Java\"?\n",
    "another_string = \"python programming\"\n",
    "another_string.startswith(\"Py\") #case sensitive\n",
    "another_string.lower().startswith(\"py\") or another_string.lower().startswith(\"Java\")\n",
    "\n",
    "# What is the result of checking if String 2 matches a basic email address pattern?\n",
    "#false #study pattern matching, #study RegExp\n",
    "\n",
    "# How would you replace the first occurrence of \"gram\" with \"code\" in String 2?\n",
    "#another_string.find('gram')\n",
    "another_string.replace('gram', 'code')\n",
    "\"python gram programming\".replace('gram','code') #study replace only first occurance\n",
    "\n",
    "# Does String 2 contain only printable characters (no control characters)? #study\n",
    "\n"
   ]
  },
  {
   "cell_type": "code",
   "execution_count": 6,
   "id": "417beea6",
   "metadata": {},
   "outputs": [
    {
     "data": {
      "text/plain": [
       "'python_programming'"
      ]
     },
     "execution_count": 6,
     "metadata": {},
     "output_type": "execute_result"
    }
   ],
   "source": [
    "# ---- intermediate\n",
    "this_string = \"Hello, World!\"\n",
    "\n",
    "# How can you access the character 'W' in the this_string?\n",
    "this_string.find('W')\n",
    "\n",
    "# What happens if you try to access this_string[13]?\n",
    "#res: will get index out of bound error\n",
    "#this_string[13]\n",
    "\n",
    "# How can you extract the word \"Hello\" from this_string?\n",
    "this_string[:5]\n",
    "\n",
    "# Is there a method to check if another_string contains the word \"python\" (case-insensitive)?\n",
    "\"python\" in (another_string)\n",
    "\n",
    "# How can you reverse the order of characters in this_string?\n",
    "this_string[::-1]\n",
    "''.join(reversed(this_string))\n",
    "\n",
    "# What would be the result of concatenating this_string and another_string?\n",
    "this_string + another_string\n",
    "\n",
    "# Is there a way to check if this_string contains only alphabetic characters?\n",
    "this_string.isalpha()\n",
    "\n",
    "# How can you split another_string into individual words?\n",
    "another_string.split(\" \")\n",
    "\n",
    "# Is there a method to check if this_string is a valid Python identifier (variable name)?\n",
    "this_string.isidentifier()\n",
    "\n",
    "# How can you replace all occurrences of spaces in another_string with underscores?\n",
    "another_string.replace(\" \",\"_\")\n"
   ]
  },
  {
   "cell_type": "code",
   "execution_count": 14,
   "id": "e4549452",
   "metadata": {},
   "outputs": [
    {
     "name": "stdout",
     "output_type": "stream",
     "text": [
      "Not a palindrome\n",
      "first occurrence: 2\n",
      "last occurrence: 8\n",
      "Python Programming\n"
     ]
    }
   ],
   "source": [
    "# ---- HARD\n",
    "\n",
    "# How can you find the longest common substring between this_string and another_string? #study\n",
    "# Can you extract all the vowels from this_string and concatenate them into a single string in reverse order?\n",
    "# 1. check fo vowels in this_string\n",
    "# 2. concatenate these and print in reverse\n",
    "\n",
    "# Is there a way to determine if another_string is a palindrome (reads the same forwards and backwards)?\n",
    "if another_string == another_string[::-1]:\n",
    "    print(\"another_string is palindrome\")\n",
    "else:\n",
    "    print(\"Not a palindrome\")\n",
    "\n",
    "# How can you remove all punctuation characters (e.g., commas, exclamation marks) from this_string?\n",
    "\n",
    "\n",
    "# Can you count the number of words in another_string without using the split method?\n",
    "\n",
    "\n",
    "# How would you capitalize the first letter of each word in another_string?\n",
    "another_string.title()\n",
    "\n",
    "# Can you generate a new string from this_string where every vowel is replaced with a corresponding digit (e.g., 'A' becomes '1')?\n",
    "\n",
    "\n",
    "# How can you find the index of the first occurrence of 'l' in this_string and the last occurrence of 'o'?\n",
    "print(\"first occurrence:\",this_string.find('l'))\n",
    "print(\"last occurrence:\",this_string.rfind('o'))\n",
    "\n",
    "\n",
    "# Is it possible to determine if this_string and another_string are anagrams of each other?\n",
    "\n",
    "\n",
    "# How would you convert another_string into a \"title case\" string (capitalize the first letter of each word) without using any built-in functions like title()?\n",
    "lst = []\n",
    "for i in another_string.split(\" \"):\n",
    "    lst.append(i.capitalize())  \n",
    "print(' '.join(lst))"
   ]
  },
  {
   "cell_type": "code",
   "execution_count": 14,
   "id": "13bce70e",
   "metadata": {},
   "outputs": [],
   "source": [
    "# --- Regex\n",
    "\n",
    "# What is the purpose of regular expressions in Python, and when might you use them?\n",
    "# How can you define a regular expression pattern in Python?\n",
    "# In a regular expression, what does the metacharacter . represent?\n",
    "# What is the difference between * and + quantifiers in regex, and when would you use each one?\n",
    "# How do you use square brackets [ ] to create character classes in a regex pattern?\n",
    "# What is the meaning of the ? quantifier in regex, and how does it affect matching?\n",
    "# Explain the difference between a greedy match and a non-greedy match in regex.\n",
    "# How can you use the re module in Python to search for a pattern in a string?\n",
    "# What does the re.sub() function do, and how can it be used to replace text in a string based on a regex pattern?\n",
    "# What are lookahead and lookbehind assertions in regex, and why are they useful?"
   ]
  },
  {
   "cell_type": "code",
   "execution_count": null,
   "id": "a7c9935c",
   "metadata": {},
   "outputs": [],
   "source": []
  }
 ],
 "metadata": {
  "kernelspec": {
   "display_name": "Python 3",
   "language": "python",
   "name": "python3"
  },
  "language_info": {
   "codemirror_mode": {
    "name": "ipython",
    "version": 3
   },
   "file_extension": ".py",
   "mimetype": "text/x-python",
   "name": "python",
   "nbconvert_exporter": "python",
   "pygments_lexer": "ipython3",
   "version": "3.12.1"
  }
 },
 "nbformat": 4,
 "nbformat_minor": 5
}
