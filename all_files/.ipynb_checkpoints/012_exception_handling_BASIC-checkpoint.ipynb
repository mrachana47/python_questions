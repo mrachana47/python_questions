{
 "cells": [
  {
   "cell_type": "code",
   "execution_count": 4,
   "id": "ff06301e",
   "metadata": {},
   "outputs": [],
   "source": [
    "# Divide by Zero: Write code that attempts to divide a number by zero. \n",
    "# What exception is raised in this case, and how can you handle it using a try-except block?\n",
    "\n",
    "# Invalid Input: Create a program that takes user input for two numbers and performs division. \n",
    "# How can you handle the case where the user enters non-numeric input? \n",
    "# Implement error handling for this scenario.\n",
    "\n",
    "# Missing Variable: Attempt to print the value of a variable that hasn't been defined. W\n",
    "# hat exception does Python raise, and how can you handle it gracefully?\n",
    "\n",
    "# Index Error: Try to access an element of a list using an index that is out of range. \n",
    "# What is the name of the exception raised, and how can you catch it using a try-except block?\n",
    "\n",
    "# Type Error: Add a string and an integer together. What exception occurs, \n",
    "# and how can you handle type errors in Python?\n",
    "\n",
    "# File Not Found: Attempt to open a non-existent file using the open() function. \n",
    "# What exception is raised, and how can you handle file-related exceptions?\n",
    "\n",
    "# Custom Exception: Define a custom exception class called CustomError \n",
    "# and raise it in your code. How can you create and raise custom exceptions in Python?\n",
    "\n",
    "# Catch Multiple Exceptions: Modify your program to handle both \n",
    "# ZeroDivisionError and ValueError exceptions when performing division. \n",
    "# How can you catch multiple exceptions in a single try-except block?\n",
    "\n",
    "# Finally Block: Use a finally block in combination \n",
    "# with try and except to ensure that a piece of code is always executed, \n",
    "# regardless of whether an exception occurs or not. What is the purpose of the finally block?\n",
    "\n",
    "# Raising Exceptions: Write code that raises an exception with a \n",
    "# specific message using the raise keyword. \n",
    "# How can you raise exceptions with custom error messages in Python?"
   ]
  },
  {
   "cell_type": "code",
   "execution_count": null,
   "id": "e2653521",
   "metadata": {},
   "outputs": [],
   "source": []
  }
 ],
 "metadata": {
  "kernelspec": {
   "display_name": "Python 3",
   "language": "python",
   "name": "python3"
  },
  "language_info": {
   "codemirror_mode": {
    "name": "ipython",
    "version": 3
   },
   "file_extension": ".py",
   "mimetype": "text/x-python",
   "name": "python",
   "nbconvert_exporter": "python",
   "pygments_lexer": "ipython3",
   "version": "3.8.3"
  }
 },
 "nbformat": 4,
 "nbformat_minor": 5
}
