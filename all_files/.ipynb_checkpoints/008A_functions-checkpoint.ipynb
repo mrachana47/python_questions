{
 "cells": [
  {
   "cell_type": "code",
   "execution_count": 1,
   "id": "f59ccfc6",
   "metadata": {},
   "outputs": [],
   "source": [
    "# What is a function in Python? Describe the basic concept of a function and its purpose in Python.\n",
    "\n",
    "# How do you define a function in Python? Provide the syntax for defining a function.\n",
    "\n",
    "# What is the difference between a function definition and a function call? Explain how these two aspects of a function are different.\n",
    "\n",
    "# What are parameters in a Python function? Describe what parameters are and how they are used in function definitions.\n",
    "\n",
    "# What is a return statement in a function? Explain the purpose of the return statement and how it works.\n",
    "\n",
    "# What is the scope of a variable in a function? Discuss the concept of variable scope and how it applies to functions.\n",
    "\n",
    "# Can you have multiple return statements in a function? Explain whether a function can have more than one return statement and the implications.\n",
    "\n",
    "# What is a docstring, and why is it useful in functions? Describe the role of docstrings in documenting functions.\n",
    "\n",
    "# What are default arguments in Python functions? Explain how you can define default values for function parameters.\n",
    "\n",
    "# How do you call a function in Python? Provide an example of calling a function.\n",
    "\n",
    "# What is a recursive function? Explain the concept of recursion and provide an example of a recursive function.\n",
    "\n",
    "# What are lambda functions (anonymous functions)? Describe lambda functions and when they are commonly used.\n",
    "\n",
    "# Can functions have global variables? Discuss whether functions can access and modify global variables.\n",
    "\n",
    "# What is variable-length argument passing in Python functions? Explain the use of *args and **kwargs for variable-length argument passing.\n",
    "\n",
    "# What is a decorator in Python functions? Describe decorators and their role in modifying the behavior of functions.\n",
    "\n",
    "# What is the difference between a function and a method in Python? Explain the distinction between functions and methods.\n",
    "\n",
    "# How do you pass functions as arguments to other functions? Describe the concept of higher-order functions.\n",
    "\n",
    "# What is function overloading in Python? Discuss whether Python supports function overloading.\n",
    "\n",
    "# What is a generator function? Explain the purpose of generator functions and how they differ from regular functions.\n",
    "\n",
    "# What are built-in functions in Python? Provide examples of some commonly used built-in functions in Python."
   ]
  },
  {
   "cell_type": "code",
   "execution_count": null,
   "id": "7ddfe5b5",
   "metadata": {},
   "outputs": [],
   "source": []
  }
 ],
 "metadata": {
  "kernelspec": {
   "display_name": "Python 3",
   "language": "python",
   "name": "python3"
  },
  "language_info": {
   "codemirror_mode": {
    "name": "ipython",
    "version": 3
   },
   "file_extension": ".py",
   "mimetype": "text/x-python",
   "name": "python",
   "nbconvert_exporter": "python",
   "pygments_lexer": "ipython3",
   "version": "3.8.3"
  }
 },
 "nbformat": 4,
 "nbformat_minor": 5
}
