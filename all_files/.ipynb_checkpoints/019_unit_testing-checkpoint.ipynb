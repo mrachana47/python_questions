{
 "cells": [
  {
   "cell_type": "code",
   "execution_count": 1,
   "id": "d7ea7066",
   "metadata": {},
   "outputs": [],
   "source": [
    "# What is Unit Testing and why is it important in software development?\n",
    "# Consider the basic definition and the benefits of unit testing in maintaining code quality.\n",
    "\n",
    "# Can you explain the concept of a \"test case\" in unit testing?\n",
    "# Describe what constitutes a test case and how it is used in the context of unit testing.\n",
    "\n",
    "# What is a \"test suite\" in unit testing?\n",
    "# Discuss how test cases are grouped and managed in unit testing.\n",
    "\n",
    "# How do you write a basic unit test in Python using the unittest framework?\n",
    "# Provide an example of a simple test case using Python's unittest module.\n",
    "\n",
    "# What is \"test coverage\" and why is it important?\n",
    "# Explain the concept of test coverage and its significance in unit testing.\n",
    "\n",
    "# How do you mock external dependencies or functions in unit testing?\n",
    "# Discuss the use of mocking frameworks or techniques, possibly with an example.\n",
    "\n",
    "# What are the differences between unit testing and other types of testing like integration testing or system testing?\n",
    "# Highlight the key differences in objectives and methodologies.\n",
    "\n",
    "# Can you explain the concept of \"test-driven development\" (TDD)?\n",
    "# Describe how TDD works and its relationship with unit testing.\n",
    "\n",
    "# What are some common best practices for writing effective unit tests?\n",
    "# Discuss practices like keeping tests independent, naming conventions, and focusing on one aspect per test.\n",
    "\n",
    "# How do you deal with test failures?\n",
    "# Talk about the steps you would take when a unit test fails."
   ]
  },
  {
   "cell_type": "code",
   "execution_count": null,
   "id": "dbaaa432",
   "metadata": {},
   "outputs": [],
   "source": []
  }
 ],
 "metadata": {
  "kernelspec": {
   "display_name": "Python 3",
   "language": "python",
   "name": "python3"
  },
  "language_info": {
   "codemirror_mode": {
    "name": "ipython",
    "version": 3
   },
   "file_extension": ".py",
   "mimetype": "text/x-python",
   "name": "python",
   "nbconvert_exporter": "python",
   "pygments_lexer": "ipython3",
   "version": "3.8.3"
  }
 },
 "nbformat": 4,
 "nbformat_minor": 5
}
