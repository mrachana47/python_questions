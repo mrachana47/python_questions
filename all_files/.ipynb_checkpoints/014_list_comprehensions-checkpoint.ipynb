{
 "cells": [
  {
   "cell_type": "code",
   "execution_count": 8,
   "id": "b09a45e7",
   "metadata": {},
   "outputs": [],
   "source": [
    "numbers = [1, 2, 3, 4, 5, 6, 7, 8, 9, 10]\n"
   ]
  },
  {
   "cell_type": "code",
   "execution_count": 7,
   "id": "ef715011",
   "metadata": {},
   "outputs": [],
   "source": [
    "# How can you use a list comprehension to create a new list that contains the square of each number in the numbers list?\n",
    "# What is the syntax for a basic list comprehension in Python?\n",
    "# Create a list comprehension to filter out even numbers from the numbers list.\n",
    "# How do you add a condition to a list comprehension to filter elements based on a specific criterion?\n",
    "# Use a list comprehension to generate a new list that contains the cube of each odd number from the numbers list.\n",
    "# What is the difference between a list comprehension and a traditional for loop for creating lists?\n",
    "# How can you modify the sample list to include both even and odd numbers for testing list comprehensions?\n",
    "# Create a list comprehension to extract all the vowels (a, e, i, o, u) from a given string.\n",
    "# What are the advantages of using list comprehensions over traditional for loops in Python?\n",
    "# Write a list comprehension to convert a list of strings to uppercase.\n",
    "# How can you use list comprehensions with nested loops to flatten a list of lists?\n",
    "# Create a list comprehension to find all prime numbers within a specified range.\n",
    "# What happens if you try to use a list comprehension to modify the elements of an existing list instead of creating a new list?\n",
    "# How can you add an else clause to a list comprehension for conditional operations?\n",
    "# Write a list comprehension to calculate the factorial of each number in the numbers list.\n",
    "# Can you use list comprehensions to perform operations on dictionaries?\n",
    "# How do you handle exceptions within a list comprehension if an element doesn't meet the specified criteria?\n",
    "# Use a list comprehension to extract the first letter of each word in a given sentence.\n",
    "# What is the maximum depth of nesting allowed in list comprehensions in Python?\n",
    "# How can you use list comprehensions to create a matrix (list of lists) with specified dimensions?"
   ]
  },
  {
   "cell_type": "code",
   "execution_count": null,
   "id": "22ae1819",
   "metadata": {},
   "outputs": [],
   "source": []
  }
 ],
 "metadata": {
  "kernelspec": {
   "display_name": "Python 3",
   "language": "python",
   "name": "python3"
  },
  "language_info": {
   "codemirror_mode": {
    "name": "ipython",
    "version": 3
   },
   "file_extension": ".py",
   "mimetype": "text/x-python",
   "name": "python",
   "nbconvert_exporter": "python",
   "pygments_lexer": "ipython3",
   "version": "3.8.3"
  }
 },
 "nbformat": 4,
 "nbformat_minor": 5
}
