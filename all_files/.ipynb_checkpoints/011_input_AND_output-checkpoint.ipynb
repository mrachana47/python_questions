{
 "cells": [
  {
   "cell_type": "code",
   "execution_count": 3,
   "id": "aa36da45",
   "metadata": {},
   "outputs": [],
   "source": [
    "# ----------- input\n",
    "\n",
    "# How do you take user input as a string in Python?\n",
    "# To take an integer input from the user, which function should you use?\n",
    "# What is the difference between using input() and raw_input() in Python 2?\n",
    "# How can you prompt the user for input and provide a message at the same time?\n",
    "# When taking multiple inputs on a single line, how do you split and store them in different variables?\n",
    "\n",
    "# What function can you use to convert a string input to a floating-point number?\n",
    "# How do you handle input errors, such as when the user enters non-numeric data for an integer input?\n",
    "# Can you take a single character as input from the user in Python?\n",
    "# What is the purpose of the strip() function when processing user input?\n",
    "# How do you handle user input with specific constraints, such as ensuring the input is within a certain range?"
   ]
  },
  {
   "cell_type": "code",
   "execution_count": 5,
   "id": "caeba54e",
   "metadata": {},
   "outputs": [],
   "source": [
    "# ----------- output\n",
    "\n",
    "# How do you display text output in Python?\n",
    "# What function is used to print multiple values separated by spaces?\n",
    "# How can you print output without moving to a new line in Python?\n",
    "# What is the purpose of the end parameter in the print() function?\n",
    "# How do you format output using f-strings in Python?\n",
    "\n",
    "# What is the difference between using single quotes and double quotes for string literals in print statements?\n",
    "# How can you print the value of a variable along with a descriptive message?\n",
    "# How do you redirect the standard output to a file in Python?\n",
    "# What does the flush parameter in the print() function do?\n",
    "# Can you use escape sequences to format the appearance of output text in Python?"
   ]
  },
  {
   "cell_type": "code",
   "execution_count": null,
   "id": "8c721e32",
   "metadata": {},
   "outputs": [],
   "source": []
  },
  {
   "cell_type": "code",
   "execution_count": null,
   "id": "3eb69d90",
   "metadata": {},
   "outputs": [],
   "source": []
  }
 ],
 "metadata": {
  "kernelspec": {
   "display_name": "Python 3",
   "language": "python",
   "name": "python3"
  },
  "language_info": {
   "codemirror_mode": {
    "name": "ipython",
    "version": 3
   },
   "file_extension": ".py",
   "mimetype": "text/x-python",
   "name": "python",
   "nbconvert_exporter": "python",
   "pygments_lexer": "ipython3",
   "version": "3.8.3"
  }
 },
 "nbformat": 4,
 "nbformat_minor": 5
}
