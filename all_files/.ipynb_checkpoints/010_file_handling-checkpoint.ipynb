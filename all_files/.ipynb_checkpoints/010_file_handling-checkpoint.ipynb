{
 "cells": [
  {
   "cell_type": "code",
   "execution_count": 1,
   "id": "3ce44c3d",
   "metadata": {},
   "outputs": [],
   "source": [
    "# open(): Opens a file and returns a file object.\n",
    "# close(): Closes the file. No further operations can be performed on the closed file.\n",
    "# read(): Reads the entire contents of the file into a string or bytes object.\n",
    "# write(): Writes the given string or bytes to the file.\n",
    "# readline(): Reads a single line from the file.\n",
    "\n",
    "# writelines(): Writes a list of strings to the file.\n",
    "# seek(): Changes the file position to the given byte offset.\n",
    "# tell(): Returns the current file position as an integer.\n",
    "# flush(): Flushes the internal buffer to the file.\n",
    "# truncate(): Resizes the file to the given size.\n",
    "\n",
    "# fileno(): Returns the file's file descriptor.\n",
    "# isatty(): Returns True if the file is connected to a terminal.\n",
    "# readlines(): Reads all lines from the file and returns them as a list of strings.\n",
    "# xreadlines() (in Python 2): Deprecated method for reading lines in Python 2.\n",
    "# next() (in Python 2): Reads the next line from the file in Python 2.\n",
    "\n",
    "# readinto(): Reads binary data into a buffer.\n",
    "# readinto1() (in Python 2): Reads binary data into a buffer in Python 2.\n",
    "# seekable(): Returns True if the file supports random access.\n",
    "# writable(): Returns True if the file is writable.\n",
    "# readable(): Returns True if the file is readable.\n",
    "# isclosed(): Returns True if the file is closed."
   ]
  },
  {
   "cell_type": "code",
   "execution_count": 2,
   "id": "9d72d7f8",
   "metadata": {},
   "outputs": [],
   "source": [
    "# What is the purpose of the open() function in Python file handling?\n",
    "# How do you open a file in read-only mode?\n",
    "# Explain the difference between text mode ('t') and binary mode ('b') when opening a file.\n",
    "# What is the significance of the file object returned by open()?\n",
    "# How can you close a file after performing operations on it?\n",
    "\n",
    "# What is the risk of not closing a file properly in Python?\n",
    "# How can you read the entire contents of a file into a string?\n",
    "# Describe the write() method and how it is used to write data to a file.\n",
    "# What is the purpose of the readline() method in file handling?\n",
    "# How would you write a list of strings to a file using writelines()?\n",
    "\n",
    "# What is the role of the seek() method in changing the file position?\n",
    "# How can you find out the current position within a file using Python?\n",
    "# Explain the use of the flush() method in file handling.\n",
    "# What does the truncate() method do, and how can it be used?\n",
    "# How is the fileno() method related to file handling?\n",
    "\n",
    "# In what scenario is the isatty() method typically used?\n",
    "# What is the purpose of the readlines() method and how does it return data?\n",
    "# Mention two file handling methods that are deprecated in Python 3.\n",
    "# Explain the concept of \"buffering\" in file handling.\n",
    "# How can you check if a file is writable using Python?"
   ]
  },
  {
   "cell_type": "code",
   "execution_count": 3,
   "id": "9ace8751",
   "metadata": {},
   "outputs": [],
   "source": [
    "# Create a directory called 'Library': Use the os.mkdir() function to create a directory named 'Library.' What is the code to create this directory?\n",
    "# Check if the directory exists: Write code to check if the 'Library' directory exists. How can you achieve this using the os.path module?\n",
    "# Create a text file: Create a new text file named 'booklist.txt' inside the 'Library' directory. How can you create a new file using Python?\n",
    "# Write data to the file: Add the titles of five books to 'booklist.txt.' How can you write data to a file in Python?\n",
    "# Read the file: Read the contents of 'booklist.txt' and print them to the console. How do you read the contents of a file?\n",
    "\n",
    "# Append data to the file: Add two more book titles to 'booklist.txt.' How can you append data to an existing file?\n",
    "# List all files in the directory: Retrieve and print a list of all files in the 'Library' directory. How can you list files in a directory using the os module?\n",
    "# Rename the file: Change the name of 'booklist.txt' to 'catalog.txt.' What function can you use to rename a file?\n",
    "# Check file existence: Verify if 'booklist.txt' exists and if 'catalog.txt' exists. How can you check if a file exists using Python?\n",
    "# Copy the file: Create a duplicate of 'catalog.txt' named 'catalog_copy.txt' within the 'Library' directory. What is the command for copying a file?\n",
    "\n",
    "# Delete a file: Remove 'catalog.txt' from the 'Library' directory. How do you delete a file using Python?\n",
    "# Create subdirectories: Create two subdirectories named 'Fiction' and 'Non-Fiction' within the 'Library' directory. How can you create subdirectories with the os module?\n",
    "# Move files to subdirectories: Move 'catalog_copy.txt' to the 'Non-Fiction' subdirectory. What function allows you to move files?\n",
    "# List contents of subdirectories: List the files in both 'Fiction' and 'Non-Fiction' subdirectories. How can you list the contents of subdirectories using Python?\n",
    "# Delete a directory: Delete the 'Fiction' subdirectory and its contents. What function can you use to delete a directory and its contents?\n",
    "\n",
    "# Check file attributes: Retrieve and print the size and modification timestamp of 'catalog_copy.txt.' How do you access file attributes using Python?\n",
    "# Create a zip archive: Create a zip archive named 'library_archive.zip' containing all the files and directories in the 'Library' directory. What library can you use for zipping files in Python?\n",
    "# Extract files from the archive: Extract the contents of 'library_archive.zip' into a new directory named 'Library_Backup.' How do you extract files from a zip archive?\n",
    "# Navigate through directories: Use the os.chdir() function to change the current working directory to 'Non-Fiction.' How can you navigate through directories with Python?\n",
    "# Clean up: Delete all remaining files and directories created during this project."
   ]
  },
  {
   "cell_type": "code",
   "execution_count": null,
   "id": "2a989daf",
   "metadata": {},
   "outputs": [],
   "source": []
  }
 ],
 "metadata": {
  "kernelspec": {
   "display_name": "Python 3",
   "language": "python",
   "name": "python3"
  },
  "language_info": {
   "codemirror_mode": {
    "name": "ipython",
    "version": 3
   },
   "file_extension": ".py",
   "mimetype": "text/x-python",
   "name": "python",
   "nbconvert_exporter": "python",
   "pygments_lexer": "ipython3",
   "version": "3.8.3"
  }
 },
 "nbformat": 4,
 "nbformat_minor": 5
}
