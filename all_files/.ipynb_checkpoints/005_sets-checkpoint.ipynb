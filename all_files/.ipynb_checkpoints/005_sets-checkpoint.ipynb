{
 "cells": [
  {
   "cell_type": "code",
   "execution_count": 1,
   "id": "21fecea1",
   "metadata": {},
   "outputs": [],
   "source": [
    "# add(element): Adds an element to the set.\n",
    "# clear(): Removes all elements from the set.\n",
    "# copy(): Returns a shallow copy of the set.\n",
    "# difference(other): Returns the set of elements that are in the current set but not in the \"other\" set.\n",
    "# difference_update(other): Removes all elements from the current set that are also in the \"other\" set.\n",
    "# discard(element): Removes the specified element from the set if it exists, without raising an error if the element is not found.\n",
    "# intersection(other): Returns the set of elements that are both in the current set and in the \"other\" set.\n",
    "# intersection_update(other): Updates the current set with the intersection of itself and the \"other\" set.\n",
    "# isdisjoint(other): Returns True if the current set has no elements in common with the \"other\" set.\n",
    "# issubset(other): Returns True if the current set is a subset of the \"other\" set.\n",
    "# issuperset(other): Returns True if the current set is a superset of the \"other\" set.\n",
    "# pop(): Removes and returns an arbitrary element from the set.\n",
    "# remove(element): Removes the specified element from the set and raises an error if the element is not found.\n",
    "# symmetric_difference(other): Returns the set of elements that are in either the current set or the \"other\" set, but not in both.\n",
    "# symmetric_difference_update(other): Updates the current set with the symmetric difference of itself and the \"other\" set.\n",
    "# union(other): Returns the set of all elements that are in either the current set or the \"other\" set.\n",
    "# update(other): Updates the current set with elements from both itself and the \"other\" set.\n",
    "# discard(): Removes a specified element from the set if it exists, without raising an error if the element is not found.\n",
    "# pop(): Removes and returns an arbitrary element from the set.\n",
    "# len(): Returns the number of elements in the set."
   ]
  },
  {
   "cell_type": "code",
   "execution_count": 2,
   "id": "76160bab",
   "metadata": {},
   "outputs": [],
   "source": [
    "set1 = {1, 2, 3, 4, 5}\n",
    "set2 = {4, 5, 6, 7, 8}\n"
   ]
  },
  {
   "cell_type": "code",
   "execution_count": 4,
   "id": "e64f8426",
   "metadata": {},
   "outputs": [],
   "source": [
    "# How can you create an empty set in Python?\n",
    "# What method can you use to add the element 6 to set1?\n",
    "# Explain the purpose of the discard() method and demonstrate how to use it.\n",
    "# How can you check if set2 is a subset of set1?\n",
    "# Use the remove() method to remove the element 4 from set1. What happens if the element is not found?\n",
    "\n",
    "# What is the difference between the union() and intersection() methods?\n",
    "# Can you use the clear() method to remove all elements from a set? If not, what method would you use?\n",
    "# Explain how the symmetric_difference() method works between set1 and set2.\n",
    "# How do you find the intersection of set1 and set2 without modifying either set?\n",
    "# Demonstrate the use of the update() method to add elements from set2 to set1.\n",
    "\n",
    "# How can you create a shallow copy of set1 using a method?\n",
    "# What does the difference_update() method do, and how is it different from the difference() method?\n",
    "# Use the isdisjoint() method to check if set1 and set2 have any common elements.\n",
    "# Explain the purpose of the pop() method in sets and demonstrate its use.\n",
    "# How do you convert a list, [5, 6, 7, 8, 9], into a set using a method?\n",
    "\n",
    "# What method can you use to find the maximum element in set1?\n",
    "# Demonstrate how to use the add() method to add the element 10 to set1.\n",
    "# How can you check if set1 is a superset of set2?\n",
    "# What method would you use to find the number of elements in set2?\n",
    "# Use the difference() method to find elements in set1 that are not in set2."
   ]
  },
  {
   "cell_type": "code",
   "execution_count": 5,
   "id": "6dd06874",
   "metadata": {},
   "outputs": [],
   "source": [
    "# Explain the purpose of the issubset() method and how it differs from the isdisjoint() method.\n",
    "# Demonstrate how to use the issuperset() method to check if set1 is a superset of set2.\n",
    "# How can you create a new set that contains all unique elements from set1 and set2 without modifying the original sets?\n",
    "# Use the intersection_update() method to update set1 with elements that are common between set1 and set2.\n",
    "# What method would you use to check if set1 and set2 have at least one element in common?\n",
    "\n",
    "# Explain the purpose of the copy() method for sets and provide an example.\n",
    "# How do you remove and return an arbitrary element from a set using a method?\n",
    "# Use the symmetric_difference_update() method to update set1 with elements that are not common between set1 and set2.\n",
    "# How can you create a frozen set from an existing set, and what is the significance of a frozen set?\n",
    "# Explain the purpose of the issuperset() method and provide an example of its usage.\n",
    "\n",
    "# What method can you use to convert a set into a frozenset, and why might you want to do this?\n",
    "# Demonstrate how to use the union() method to combine elements from set1 and set2 into a new set.\n",
    "# Use the isdisjoint() method to check if set1 and an empty set have any common elements.\n",
    "# How can you remove an element from a set using the discard() method, and what happens if the element is not found?\n",
    "# Explain the concept of set comprehension in Python and provide an example.\n",
    "\n",
    "# How do you find the minimum element in set2 using a method?\n",
    "# Demonstrate how to use the difference_update() method to remove elements from set1 that are also in set2.\n",
    "# What method can you use to create a set from a string, for example, \"hello\"?\n",
    "# Explain the purpose of the intersection_update() method and how it differs from the intersection() method.\n",
    "# How can you use the symmetric_difference() method to find elements that are unique to each of the two sets, set1 and set2?"
   ]
  },
  {
   "cell_type": "code",
   "execution_count": null,
   "id": "583f57a9",
   "metadata": {},
   "outputs": [],
   "source": []
  }
 ],
 "metadata": {
  "kernelspec": {
   "display_name": "Python 3",
   "language": "python",
   "name": "python3"
  },
  "language_info": {
   "codemirror_mode": {
    "name": "ipython",
    "version": 3
   },
   "file_extension": ".py",
   "mimetype": "text/x-python",
   "name": "python",
   "nbconvert_exporter": "python",
   "pygments_lexer": "ipython3",
   "version": "3.8.3"
  }
 },
 "nbformat": 4,
 "nbformat_minor": 5
}
